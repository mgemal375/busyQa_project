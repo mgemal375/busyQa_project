{
  "cells": [
    {
      "cell_type": "markdown",
      "metadata": {
        "id": "E4driQZdThTE"
      },
      "source": [
        "Setup"
      ]
    },
    {
      "cell_type": "code",
      "execution_count": 1,
      "metadata": {
        "colab": {
          "base_uri": "https://localhost:8080/"
        },
        "id": "eapx_JrRqqTz",
        "outputId": "c7920b7e-4a58-4e7b-c04e-558468b39fea"
      },
      "outputs": [
        {
          "name": "stdout",
          "output_type": "stream",
          "text": [
            "Requirement already satisfied: Streamlit in c:\\users\\hp\\samle-data\\env\\lib\\site-packages (1.32.2)\n",
            "Requirement already satisfied: altair<6,>=4.0 in c:\\users\\hp\\samle-data\\env\\lib\\site-packages (from Streamlit) (5.2.0)\n",
            "Requirement already satisfied: blinker<2,>=1.0.0 in c:\\users\\hp\\samle-data\\env\\lib\\site-packages (from Streamlit) (1.7.0)\n",
            "Requirement already satisfied: cachetools<6,>=4.0 in c:\\users\\hp\\samle-data\\env\\lib\\site-packages (from Streamlit) (5.3.3)\n",
            "Requirement already satisfied: click<9,>=7.0 in c:\\users\\hp\\samle-data\\env\\lib\\site-packages (from Streamlit) (8.1.7)\n",
            "Requirement already satisfied: numpy<2,>=1.19.3 in c:\\users\\hp\\samle-data\\env\\lib\\site-packages (from Streamlit) (1.26.2)\n",
            "Requirement already satisfied: packaging<24,>=16.8 in c:\\users\\hp\\samle-data\\env\\lib\\site-packages (from Streamlit) (23.1)\n",
            "Requirement already satisfied: pandas<3,>=1.3.0 in c:\\users\\hp\\samle-data\\env\\lib\\site-packages (from Streamlit) (2.1.4)\n",
            "Requirement already satisfied: pillow<11,>=7.1.0 in c:\\users\\hp\\samle-data\\env\\lib\\site-packages (from Streamlit) (10.0.1)\n",
            "Requirement already satisfied: protobuf<5,>=3.20 in c:\\users\\hp\\samle-data\\env\\lib\\site-packages (from Streamlit) (4.25.3)\n",
            "Requirement already satisfied: pyarrow>=7.0 in c:\\users\\hp\\samle-data\\env\\lib\\site-packages (from Streamlit) (15.0.1)\n",
            "Requirement already satisfied: requests<3,>=2.27 in c:\\users\\hp\\samle-data\\env\\lib\\site-packages (from Streamlit) (2.31.0)\n",
            "Requirement already satisfied: rich<14,>=10.14.0 in c:\\users\\hp\\samle-data\\env\\lib\\site-packages (from Streamlit) (13.7.1)\n",
            "Requirement already satisfied: tenacity<9,>=8.1.0 in c:\\users\\hp\\samle-data\\env\\lib\\site-packages (from Streamlit) (8.2.3)\n",
            "Requirement already satisfied: toml<2,>=0.10.1 in c:\\users\\hp\\samle-data\\env\\lib\\site-packages (from Streamlit) (0.10.2)\n",
            "Requirement already satisfied: typing-extensions<5,>=4.3.0 in c:\\users\\hp\\samle-data\\env\\lib\\site-packages (from Streamlit) (4.7.1)\n",
            "Requirement already satisfied: gitpython!=3.1.19,<4,>=3.0.7 in c:\\users\\hp\\samle-data\\env\\lib\\site-packages (from Streamlit) (3.1.42)\n",
            "Requirement already satisfied: pydeck<1,>=0.8.0b4 in c:\\users\\hp\\samle-data\\env\\lib\\site-packages (from Streamlit) (0.8.1b0)\n",
            "Requirement already satisfied: tornado<7,>=6.0.3 in c:\\users\\hp\\samle-data\\env\\lib\\site-packages (from Streamlit) (6.3.3)\n",
            "Requirement already satisfied: watchdog>=2.1.5 in c:\\users\\hp\\samle-data\\env\\lib\\site-packages (from Streamlit) (4.0.0)\n",
            "Requirement already satisfied: jinja2 in c:\\users\\hp\\samle-data\\env\\lib\\site-packages (from altair<6,>=4.0->Streamlit) (3.1.2)\n",
            "Requirement already satisfied: jsonschema>=3.0 in c:\\users\\hp\\samle-data\\env\\lib\\site-packages (from altair<6,>=4.0->Streamlit) (4.19.2)\n",
            "Requirement already satisfied: toolz in c:\\users\\hp\\samle-data\\env\\lib\\site-packages (from altair<6,>=4.0->Streamlit) (0.12.1)\n",
            "Requirement already satisfied: colorama in c:\\users\\hp\\samle-data\\env\\lib\\site-packages (from click<9,>=7.0->Streamlit) (0.4.6)\n",
            "Requirement already satisfied: gitdb<5,>=4.0.1 in c:\\users\\hp\\samle-data\\env\\lib\\site-packages (from gitpython!=3.1.19,<4,>=3.0.7->Streamlit) (4.0.11)\n",
            "Requirement already satisfied: python-dateutil>=2.8.2 in c:\\users\\hp\\samle-data\\env\\lib\\site-packages (from pandas<3,>=1.3.0->Streamlit) (2.8.2)\n",
            "Requirement already satisfied: pytz>=2020.1 in c:\\users\\hp\\samle-data\\env\\lib\\site-packages (from pandas<3,>=1.3.0->Streamlit) (2023.3.post1)\n",
            "Requirement already satisfied: tzdata>=2022.1 in c:\\users\\hp\\samle-data\\env\\lib\\site-packages (from pandas<3,>=1.3.0->Streamlit) (2023.3)\n",
            "Requirement already satisfied: charset-normalizer<4,>=2 in c:\\users\\hp\\samle-data\\env\\lib\\site-packages (from requests<3,>=2.27->Streamlit) (2.0.4)\n",
            "Requirement already satisfied: idna<4,>=2.5 in c:\\users\\hp\\samle-data\\env\\lib\\site-packages (from requests<3,>=2.27->Streamlit) (3.4)\n",
            "Requirement already satisfied: urllib3<3,>=1.21.1 in c:\\users\\hp\\samle-data\\env\\lib\\site-packages (from requests<3,>=2.27->Streamlit) (1.26.18)\n",
            "Requirement already satisfied: certifi>=2017.4.17 in c:\\users\\hp\\samle-data\\env\\lib\\site-packages (from requests<3,>=2.27->Streamlit) (2023.11.17)\n",
            "Requirement already satisfied: markdown-it-py>=2.2.0 in c:\\users\\hp\\samle-data\\env\\lib\\site-packages (from rich<14,>=10.14.0->Streamlit) (3.0.0)\n",
            "Requirement already satisfied: pygments<3.0.0,>=2.13.0 in c:\\users\\hp\\samle-data\\env\\lib\\site-packages (from rich<14,>=10.14.0->Streamlit) (2.15.1)\n",
            "Requirement already satisfied: smmap<6,>=3.0.1 in c:\\users\\hp\\samle-data\\env\\lib\\site-packages (from gitdb<5,>=4.0.1->gitpython!=3.1.19,<4,>=3.0.7->Streamlit) (5.0.1)\n",
            "Requirement already satisfied: MarkupSafe>=2.0 in c:\\users\\hp\\samle-data\\env\\lib\\site-packages (from jinja2->altair<6,>=4.0->Streamlit) (2.1.1)\n",
            "Requirement already satisfied: attrs>=22.2.0 in c:\\users\\hp\\samle-data\\env\\lib\\site-packages (from jsonschema>=3.0->altair<6,>=4.0->Streamlit) (23.1.0)\n",
            "Requirement already satisfied: jsonschema-specifications>=2023.03.6 in c:\\users\\hp\\samle-data\\env\\lib\\site-packages (from jsonschema>=3.0->altair<6,>=4.0->Streamlit) (2023.7.1)\n",
            "Requirement already satisfied: referencing>=0.28.4 in c:\\users\\hp\\samle-data\\env\\lib\\site-packages (from jsonschema>=3.0->altair<6,>=4.0->Streamlit) (0.30.2)\n",
            "Requirement already satisfied: rpds-py>=0.7.1 in c:\\users\\hp\\samle-data\\env\\lib\\site-packages (from jsonschema>=3.0->altair<6,>=4.0->Streamlit) (0.10.6)\n",
            "Requirement already satisfied: mdurl~=0.1 in c:\\users\\hp\\samle-data\\env\\lib\\site-packages (from markdown-it-py>=2.2.0->rich<14,>=10.14.0->Streamlit) (0.1.2)\n",
            "Requirement already satisfied: six>=1.5 in c:\\users\\hp\\samle-data\\env\\lib\\site-packages (from python-dateutil>=2.8.2->pandas<3,>=1.3.0->Streamlit) (1.16.0)\n",
            "Requirement already satisfied: seaborn in c:\\users\\hp\\samle-data\\env\\lib\\site-packages (0.13.2)\n",
            "Requirement already satisfied: numpy!=1.24.0,>=1.20 in c:\\users\\hp\\samle-data\\env\\lib\\site-packages (from seaborn) (1.26.2)\n",
            "Requirement already satisfied: pandas>=1.2 in c:\\users\\hp\\samle-data\\env\\lib\\site-packages (from seaborn) (2.1.4)\n",
            "Requirement already satisfied: matplotlib!=3.6.1,>=3.4 in c:\\users\\hp\\samle-data\\env\\lib\\site-packages (from seaborn) (3.8.0)\n",
            "Requirement already satisfied: contourpy>=1.0.1 in c:\\users\\hp\\samle-data\\env\\lib\\site-packages (from matplotlib!=3.6.1,>=3.4->seaborn) (1.2.0)\n",
            "Requirement already satisfied: cycler>=0.10 in c:\\users\\hp\\samle-data\\env\\lib\\site-packages (from matplotlib!=3.6.1,>=3.4->seaborn) (0.11.0)\n",
            "Requirement already satisfied: fonttools>=4.22.0 in c:\\users\\hp\\samle-data\\env\\lib\\site-packages (from matplotlib!=3.6.1,>=3.4->seaborn) (4.25.0)\n",
            "Requirement already satisfied: kiwisolver>=1.0.1 in c:\\users\\hp\\samle-data\\env\\lib\\site-packages (from matplotlib!=3.6.1,>=3.4->seaborn) (1.4.4)\n",
            "Requirement already satisfied: packaging>=20.0 in c:\\users\\hp\\samle-data\\env\\lib\\site-packages (from matplotlib!=3.6.1,>=3.4->seaborn) (23.1)\n",
            "Requirement already satisfied: pillow>=6.2.0 in c:\\users\\hp\\samle-data\\env\\lib\\site-packages (from matplotlib!=3.6.1,>=3.4->seaborn) (10.0.1)\n",
            "Requirement already satisfied: pyparsing>=2.3.1 in c:\\users\\hp\\samle-data\\env\\lib\\site-packages (from matplotlib!=3.6.1,>=3.4->seaborn) (3.0.9)\n",
            "Requirement already satisfied: python-dateutil>=2.7 in c:\\users\\hp\\samle-data\\env\\lib\\site-packages (from matplotlib!=3.6.1,>=3.4->seaborn) (2.8.2)\n",
            "Requirement already satisfied: pytz>=2020.1 in c:\\users\\hp\\samle-data\\env\\lib\\site-packages (from pandas>=1.2->seaborn) (2023.3.post1)\n",
            "Requirement already satisfied: tzdata>=2022.1 in c:\\users\\hp\\samle-data\\env\\lib\\site-packages (from pandas>=1.2->seaborn) (2023.3)\n",
            "Requirement already satisfied: six>=1.5 in c:\\users\\hp\\samle-data\\env\\lib\\site-packages (from python-dateutil>=2.7->matplotlib!=3.6.1,>=3.4->seaborn) (1.16.0)\n",
            "Requirement already satisfied: imblearn in c:\\users\\hp\\samle-data\\env\\lib\\site-packages (0.0)\n",
            "Requirement already satisfied: imbalanced-learn in c:\\users\\hp\\samle-data\\env\\lib\\site-packages (from imblearn) (0.12.0)\n",
            "Requirement already satisfied: numpy>=1.17.3 in c:\\users\\hp\\samle-data\\env\\lib\\site-packages (from imbalanced-learn->imblearn) (1.26.2)\n",
            "Requirement already satisfied: scipy>=1.5.0 in c:\\users\\hp\\samle-data\\env\\lib\\site-packages (from imbalanced-learn->imblearn) (1.11.4)\n",
            "Requirement already satisfied: scikit-learn>=1.0.2 in c:\\users\\hp\\samle-data\\env\\lib\\site-packages (from imbalanced-learn->imblearn) (1.3.0)\n",
            "Requirement already satisfied: joblib>=1.1.1 in c:\\users\\hp\\samle-data\\env\\lib\\site-packages (from imbalanced-learn->imblearn) (1.2.0)\n",
            "Requirement already satisfied: threadpoolctl>=2.0.0 in c:\\users\\hp\\samle-data\\env\\lib\\site-packages (from imbalanced-learn->imblearn) (2.2.0)\n"
          ]
        }
      ],
      "source": [
        "!pip install Streamlit\n",
        "!pip install seaborn\n",
        "!pip install imblearn "
      ]
    },
    {
      "cell_type": "code",
      "execution_count": 2,
      "metadata": {
        "id": "zev1bR3vThTG"
      },
      "outputs": [],
      "source": [
        "import numpy as np\n",
        "import pandas as pd\n",
        "import matplotlib.pyplot as plt\n",
        "import seaborn as sns\n",
        "\n",
        "from sklearn.metrics import accuracy_score\n",
        "from sklearn.metrics import classification_report\n",
        "from sklearn.metrics import confusion_matrix\n",
        "from sklearn.model_selection import train_test_split"
      ]
    },
    {
      "cell_type": "code",
      "execution_count": 3,
      "metadata": {
        "id": "bpBVLFlHThTG"
      },
      "outputs": [],
      "source": [
        "#defining function to produce frequency tables\n",
        "# Create a function to generate with frequency and percentage totals\n",
        "def freq_percent_table(df, column):\n",
        "    # Exclude missing values\n",
        "    df_filtered = df.dropna(subset=[column])\n",
        "\n",
        "    # Count values\n",
        "    table = df_filtered[column].value_counts().reset_index()\n",
        "\n",
        "    # Rename columns\n",
        "    table.columns = [column, 'Count']\n",
        "\n",
        "    # Sort values by the specified column\n",
        "    table = table.sort_values(by=column)\n",
        "\n",
        "    # Calculate total count\n",
        "    total_count = len(df_filtered)\n",
        "\n",
        "    # Calculate percentage\n",
        "    table['Percent'] = (table['Count'] / total_count).round(2) * 100\n",
        "\n",
        "    # Create a row for the total count\n",
        "    total = pd.DataFrame({column: ['Total'], 'Count': [total_count], 'Percent': [100.0]})\n",
        "\n",
        "    # Concatenate the table and the total row\n",
        "    table = pd.concat([table, total], ignore_index=True)\n",
        "    return table"
      ]
    },
    {
      "cell_type": "code",
      "execution_count": 4,
      "metadata": {
        "id": "hwl8HDPNThTH"
      },
      "outputs": [],
      "source": [
        "data = pd.read_csv('predictive_maintenance.csv')"
      ]
    },
    {
      "cell_type": "code",
      "execution_count": 5,
      "metadata": {
        "id": "QgxSrbc7ThTI"
      },
      "outputs": [],
      "source": [
        "df = data.copy()"
      ]
    },
    {
      "cell_type": "markdown",
      "metadata": {
        "id": "LpJekCvTThTI"
      },
      "source": [
        "Inspecting data"
      ]
    },
    {
      "cell_type": "code",
      "execution_count": 6,
      "metadata": {
        "colab": {
          "base_uri": "https://localhost:8080/"
        },
        "id": "fvNVdEldThTI",
        "outputId": "95344027-aec8-42c0-eefc-8741cbd0b32d"
      },
      "outputs": [
        {
          "data": {
            "text/plain": [
              "UDI                          int64\n",
              "Product ID                  object\n",
              "Type                        object\n",
              "Air temperature [K]        float64\n",
              "Process temperature [K]    float64\n",
              "Rotational speed [rpm]       int64\n",
              "Torque [Nm]                float64\n",
              "Tool wear [min]              int64\n",
              "Target                       int64\n",
              "Failure Type                object\n",
              "dtype: object"
            ]
          },
          "execution_count": 6,
          "metadata": {},
          "output_type": "execute_result"
        }
      ],
      "source": [
        "df.dtypes"
      ]
    },
    {
      "cell_type": "code",
      "execution_count": 7,
      "metadata": {
        "colab": {
          "base_uri": "https://localhost:8080/"
        },
        "id": "YiPm7RJTThTJ",
        "outputId": "6adb013f-9e62-496f-d995-1cf56a5e5446"
      },
      "outputs": [
        {
          "data": {
            "text/plain": [
              "UDI                          int64\n",
              "Product ID                  object\n",
              "Type                        object\n",
              "Air temperature [K]        float64\n",
              "Process temperature [K]    float64\n",
              "Rotational speed [rpm]       int64\n",
              "Torque [Nm]                float64\n",
              "Tool wear [min]              int64\n",
              "Target                       int64\n",
              "Failure Type                object\n",
              "dtype: object"
            ]
          },
          "execution_count": 7,
          "metadata": {},
          "output_type": "execute_result"
        }
      ],
      "source": [
        "df.dtypes"
      ]
    },
    {
      "cell_type": "code",
      "execution_count": 8,
      "metadata": {
        "colab": {
          "base_uri": "https://localhost:8080/"
        },
        "id": "IuEJ-8vLThTK",
        "outputId": "8407238a-b841-4221-cc6e-2c70b1f5965c"
      },
      "outputs": [
        {
          "data": {
            "text/plain": [
              "UDI                        0\n",
              "Product ID                 0\n",
              "Type                       0\n",
              "Air temperature [K]        0\n",
              "Process temperature [K]    0\n",
              "Rotational speed [rpm]     0\n",
              "Torque [Nm]                0\n",
              "Tool wear [min]            0\n",
              "Target                     0\n",
              "Failure Type               0\n",
              "dtype: int64"
            ]
          },
          "execution_count": 8,
          "metadata": {},
          "output_type": "execute_result"
        }
      ],
      "source": [
        "df.isna().sum()"
      ]
    },
    {
      "cell_type": "code",
      "execution_count": 9,
      "metadata": {
        "colab": {
          "base_uri": "https://localhost:8080/",
          "height": 300
        },
        "id": "wbKrXsp-ThTK",
        "outputId": "18bd2d33-cf1e-4d7a-df2a-9ecd7e4143db"
      },
      "outputs": [
        {
          "data": {
            "text/html": [
              "<div>\n",
              "<style scoped>\n",
              "    .dataframe tbody tr th:only-of-type {\n",
              "        vertical-align: middle;\n",
              "    }\n",
              "\n",
              "    .dataframe tbody tr th {\n",
              "        vertical-align: top;\n",
              "    }\n",
              "\n",
              "    .dataframe thead th {\n",
              "        text-align: right;\n",
              "    }\n",
              "</style>\n",
              "<table border=\"1\" class=\"dataframe\">\n",
              "  <thead>\n",
              "    <tr style=\"text-align: right;\">\n",
              "      <th></th>\n",
              "      <th>UDI</th>\n",
              "      <th>Air temperature [K]</th>\n",
              "      <th>Process temperature [K]</th>\n",
              "      <th>Rotational speed [rpm]</th>\n",
              "      <th>Torque [Nm]</th>\n",
              "      <th>Tool wear [min]</th>\n",
              "      <th>Target</th>\n",
              "    </tr>\n",
              "  </thead>\n",
              "  <tbody>\n",
              "    <tr>\n",
              "      <th>count</th>\n",
              "      <td>10000.00000</td>\n",
              "      <td>10000.000000</td>\n",
              "      <td>10000.000000</td>\n",
              "      <td>10000.000000</td>\n",
              "      <td>10000.000000</td>\n",
              "      <td>10000.000000</td>\n",
              "      <td>10000.000000</td>\n",
              "    </tr>\n",
              "    <tr>\n",
              "      <th>mean</th>\n",
              "      <td>5000.50000</td>\n",
              "      <td>300.004930</td>\n",
              "      <td>310.005560</td>\n",
              "      <td>1538.776100</td>\n",
              "      <td>39.986910</td>\n",
              "      <td>107.951000</td>\n",
              "      <td>0.033900</td>\n",
              "    </tr>\n",
              "    <tr>\n",
              "      <th>std</th>\n",
              "      <td>2886.89568</td>\n",
              "      <td>2.000259</td>\n",
              "      <td>1.483734</td>\n",
              "      <td>179.284096</td>\n",
              "      <td>9.968934</td>\n",
              "      <td>63.654147</td>\n",
              "      <td>0.180981</td>\n",
              "    </tr>\n",
              "    <tr>\n",
              "      <th>min</th>\n",
              "      <td>1.00000</td>\n",
              "      <td>295.300000</td>\n",
              "      <td>305.700000</td>\n",
              "      <td>1168.000000</td>\n",
              "      <td>3.800000</td>\n",
              "      <td>0.000000</td>\n",
              "      <td>0.000000</td>\n",
              "    </tr>\n",
              "    <tr>\n",
              "      <th>25%</th>\n",
              "      <td>2500.75000</td>\n",
              "      <td>298.300000</td>\n",
              "      <td>308.800000</td>\n",
              "      <td>1423.000000</td>\n",
              "      <td>33.200000</td>\n",
              "      <td>53.000000</td>\n",
              "      <td>0.000000</td>\n",
              "    </tr>\n",
              "    <tr>\n",
              "      <th>50%</th>\n",
              "      <td>5000.50000</td>\n",
              "      <td>300.100000</td>\n",
              "      <td>310.100000</td>\n",
              "      <td>1503.000000</td>\n",
              "      <td>40.100000</td>\n",
              "      <td>108.000000</td>\n",
              "      <td>0.000000</td>\n",
              "    </tr>\n",
              "    <tr>\n",
              "      <th>75%</th>\n",
              "      <td>7500.25000</td>\n",
              "      <td>301.500000</td>\n",
              "      <td>311.100000</td>\n",
              "      <td>1612.000000</td>\n",
              "      <td>46.800000</td>\n",
              "      <td>162.000000</td>\n",
              "      <td>0.000000</td>\n",
              "    </tr>\n",
              "    <tr>\n",
              "      <th>max</th>\n",
              "      <td>10000.00000</td>\n",
              "      <td>304.500000</td>\n",
              "      <td>313.800000</td>\n",
              "      <td>2886.000000</td>\n",
              "      <td>76.600000</td>\n",
              "      <td>253.000000</td>\n",
              "      <td>1.000000</td>\n",
              "    </tr>\n",
              "  </tbody>\n",
              "</table>\n",
              "</div>"
            ],
            "text/plain": [
              "               UDI  Air temperature [K]  Process temperature [K]  \\\n",
              "count  10000.00000         10000.000000             10000.000000   \n",
              "mean    5000.50000           300.004930               310.005560   \n",
              "std     2886.89568             2.000259                 1.483734   \n",
              "min        1.00000           295.300000               305.700000   \n",
              "25%     2500.75000           298.300000               308.800000   \n",
              "50%     5000.50000           300.100000               310.100000   \n",
              "75%     7500.25000           301.500000               311.100000   \n",
              "max    10000.00000           304.500000               313.800000   \n",
              "\n",
              "       Rotational speed [rpm]   Torque [Nm]  Tool wear [min]        Target  \n",
              "count            10000.000000  10000.000000     10000.000000  10000.000000  \n",
              "mean              1538.776100     39.986910       107.951000      0.033900  \n",
              "std                179.284096      9.968934        63.654147      0.180981  \n",
              "min               1168.000000      3.800000         0.000000      0.000000  \n",
              "25%               1423.000000     33.200000        53.000000      0.000000  \n",
              "50%               1503.000000     40.100000       108.000000      0.000000  \n",
              "75%               1612.000000     46.800000       162.000000      0.000000  \n",
              "max               2886.000000     76.600000       253.000000      1.000000  "
            ]
          },
          "execution_count": 9,
          "metadata": {},
          "output_type": "execute_result"
        }
      ],
      "source": [
        "df.describe()"
      ]
    },
    {
      "cell_type": "code",
      "execution_count": 10,
      "metadata": {
        "colab": {
          "base_uri": "https://localhost:8080/",
          "height": 223
        },
        "id": "NiiothkMThTL",
        "outputId": "a5dcce10-6de4-4f19-8484-dd284d1ec5d5"
      },
      "outputs": [
        {
          "data": {
            "text/html": [
              "<div>\n",
              "<style scoped>\n",
              "    .dataframe tbody tr th:only-of-type {\n",
              "        vertical-align: middle;\n",
              "    }\n",
              "\n",
              "    .dataframe tbody tr th {\n",
              "        vertical-align: top;\n",
              "    }\n",
              "\n",
              "    .dataframe thead th {\n",
              "        text-align: right;\n",
              "    }\n",
              "</style>\n",
              "<table border=\"1\" class=\"dataframe\">\n",
              "  <thead>\n",
              "    <tr style=\"text-align: right;\">\n",
              "      <th></th>\n",
              "      <th>UDI</th>\n",
              "      <th>Product ID</th>\n",
              "      <th>Type</th>\n",
              "      <th>Air temperature [K]</th>\n",
              "      <th>Process temperature [K]</th>\n",
              "      <th>Rotational speed [rpm]</th>\n",
              "      <th>Torque [Nm]</th>\n",
              "      <th>Tool wear [min]</th>\n",
              "      <th>Target</th>\n",
              "      <th>Failure Type</th>\n",
              "    </tr>\n",
              "  </thead>\n",
              "  <tbody>\n",
              "    <tr>\n",
              "      <th>0</th>\n",
              "      <td>1</td>\n",
              "      <td>M14860</td>\n",
              "      <td>M</td>\n",
              "      <td>298.1</td>\n",
              "      <td>308.6</td>\n",
              "      <td>1551</td>\n",
              "      <td>42.8</td>\n",
              "      <td>0</td>\n",
              "      <td>0</td>\n",
              "      <td>No Failure</td>\n",
              "    </tr>\n",
              "    <tr>\n",
              "      <th>1</th>\n",
              "      <td>2</td>\n",
              "      <td>L47181</td>\n",
              "      <td>L</td>\n",
              "      <td>298.2</td>\n",
              "      <td>308.7</td>\n",
              "      <td>1408</td>\n",
              "      <td>46.3</td>\n",
              "      <td>3</td>\n",
              "      <td>0</td>\n",
              "      <td>No Failure</td>\n",
              "    </tr>\n",
              "    <tr>\n",
              "      <th>2</th>\n",
              "      <td>3</td>\n",
              "      <td>L47182</td>\n",
              "      <td>L</td>\n",
              "      <td>298.1</td>\n",
              "      <td>308.5</td>\n",
              "      <td>1498</td>\n",
              "      <td>49.4</td>\n",
              "      <td>5</td>\n",
              "      <td>0</td>\n",
              "      <td>No Failure</td>\n",
              "    </tr>\n",
              "    <tr>\n",
              "      <th>3</th>\n",
              "      <td>4</td>\n",
              "      <td>L47183</td>\n",
              "      <td>L</td>\n",
              "      <td>298.2</td>\n",
              "      <td>308.6</td>\n",
              "      <td>1433</td>\n",
              "      <td>39.5</td>\n",
              "      <td>7</td>\n",
              "      <td>0</td>\n",
              "      <td>No Failure</td>\n",
              "    </tr>\n",
              "    <tr>\n",
              "      <th>4</th>\n",
              "      <td>5</td>\n",
              "      <td>L47184</td>\n",
              "      <td>L</td>\n",
              "      <td>298.2</td>\n",
              "      <td>308.7</td>\n",
              "      <td>1408</td>\n",
              "      <td>40.0</td>\n",
              "      <td>9</td>\n",
              "      <td>0</td>\n",
              "      <td>No Failure</td>\n",
              "    </tr>\n",
              "  </tbody>\n",
              "</table>\n",
              "</div>"
            ],
            "text/plain": [
              "   UDI Product ID Type  Air temperature [K]  Process temperature [K]  \\\n",
              "0    1     M14860    M                298.1                    308.6   \n",
              "1    2     L47181    L                298.2                    308.7   \n",
              "2    3     L47182    L                298.1                    308.5   \n",
              "3    4     L47183    L                298.2                    308.6   \n",
              "4    5     L47184    L                298.2                    308.7   \n",
              "\n",
              "   Rotational speed [rpm]  Torque [Nm]  Tool wear [min]  Target Failure Type  \n",
              "0                    1551         42.8                0       0   No Failure  \n",
              "1                    1408         46.3                3       0   No Failure  \n",
              "2                    1498         49.4                5       0   No Failure  \n",
              "3                    1433         39.5                7       0   No Failure  \n",
              "4                    1408         40.0                9       0   No Failure  "
            ]
          },
          "execution_count": 10,
          "metadata": {},
          "output_type": "execute_result"
        }
      ],
      "source": [
        "data.head()"
      ]
    },
    {
      "cell_type": "code",
      "execution_count": 11,
      "metadata": {
        "colab": {
          "base_uri": "https://localhost:8080/",
          "height": 223
        },
        "id": "CqPW_EUhThTM",
        "outputId": "286fafb8-0cef-4b0f-a06e-b71a1f506e7c"
      },
      "outputs": [
        {
          "data": {
            "text/html": [
              "<div>\n",
              "<style scoped>\n",
              "    .dataframe tbody tr th:only-of-type {\n",
              "        vertical-align: middle;\n",
              "    }\n",
              "\n",
              "    .dataframe tbody tr th {\n",
              "        vertical-align: top;\n",
              "    }\n",
              "\n",
              "    .dataframe thead th {\n",
              "        text-align: right;\n",
              "    }\n",
              "</style>\n",
              "<table border=\"1\" class=\"dataframe\">\n",
              "  <thead>\n",
              "    <tr style=\"text-align: right;\">\n",
              "      <th></th>\n",
              "      <th>UDI</th>\n",
              "      <th>Product ID</th>\n",
              "      <th>Type</th>\n",
              "      <th>Air temperature [K]</th>\n",
              "      <th>Process temperature [K]</th>\n",
              "      <th>Rotational speed [rpm]</th>\n",
              "      <th>Torque [Nm]</th>\n",
              "      <th>Tool wear [min]</th>\n",
              "      <th>Target</th>\n",
              "      <th>Failure Type</th>\n",
              "    </tr>\n",
              "  </thead>\n",
              "  <tbody>\n",
              "    <tr>\n",
              "      <th>0</th>\n",
              "      <td>1</td>\n",
              "      <td>M14860</td>\n",
              "      <td>M</td>\n",
              "      <td>298.1</td>\n",
              "      <td>308.6</td>\n",
              "      <td>1551</td>\n",
              "      <td>42.8</td>\n",
              "      <td>0</td>\n",
              "      <td>0</td>\n",
              "      <td>No Failure</td>\n",
              "    </tr>\n",
              "    <tr>\n",
              "      <th>1</th>\n",
              "      <td>2</td>\n",
              "      <td>L47181</td>\n",
              "      <td>L</td>\n",
              "      <td>298.2</td>\n",
              "      <td>308.7</td>\n",
              "      <td>1408</td>\n",
              "      <td>46.3</td>\n",
              "      <td>3</td>\n",
              "      <td>0</td>\n",
              "      <td>No Failure</td>\n",
              "    </tr>\n",
              "    <tr>\n",
              "      <th>2</th>\n",
              "      <td>3</td>\n",
              "      <td>L47182</td>\n",
              "      <td>L</td>\n",
              "      <td>298.1</td>\n",
              "      <td>308.5</td>\n",
              "      <td>1498</td>\n",
              "      <td>49.4</td>\n",
              "      <td>5</td>\n",
              "      <td>0</td>\n",
              "      <td>No Failure</td>\n",
              "    </tr>\n",
              "    <tr>\n",
              "      <th>3</th>\n",
              "      <td>4</td>\n",
              "      <td>L47183</td>\n",
              "      <td>L</td>\n",
              "      <td>298.2</td>\n",
              "      <td>308.6</td>\n",
              "      <td>1433</td>\n",
              "      <td>39.5</td>\n",
              "      <td>7</td>\n",
              "      <td>0</td>\n",
              "      <td>No Failure</td>\n",
              "    </tr>\n",
              "    <tr>\n",
              "      <th>4</th>\n",
              "      <td>5</td>\n",
              "      <td>L47184</td>\n",
              "      <td>L</td>\n",
              "      <td>298.2</td>\n",
              "      <td>308.7</td>\n",
              "      <td>1408</td>\n",
              "      <td>40.0</td>\n",
              "      <td>9</td>\n",
              "      <td>0</td>\n",
              "      <td>No Failure</td>\n",
              "    </tr>\n",
              "  </tbody>\n",
              "</table>\n",
              "</div>"
            ],
            "text/plain": [
              "   UDI Product ID Type  Air temperature [K]  Process temperature [K]  \\\n",
              "0    1     M14860    M                298.1                    308.6   \n",
              "1    2     L47181    L                298.2                    308.7   \n",
              "2    3     L47182    L                298.1                    308.5   \n",
              "3    4     L47183    L                298.2                    308.6   \n",
              "4    5     L47184    L                298.2                    308.7   \n",
              "\n",
              "   Rotational speed [rpm]  Torque [Nm]  Tool wear [min]  Target Failure Type  \n",
              "0                    1551         42.8                0       0   No Failure  \n",
              "1                    1408         46.3                3       0   No Failure  \n",
              "2                    1498         49.4                5       0   No Failure  \n",
              "3                    1433         39.5                7       0   No Failure  \n",
              "4                    1408         40.0                9       0   No Failure  "
            ]
          },
          "execution_count": 11,
          "metadata": {},
          "output_type": "execute_result"
        }
      ],
      "source": [
        "df.head()"
      ]
    },
    {
      "cell_type": "code",
      "execution_count": 12,
      "metadata": {
        "id": "yhySmJs0ThTM"
      },
      "outputs": [],
      "source": [
        "df.rename(mapper={'Air temperature [K]': 'Air temperature',\n",
        "                    'Process temperature [K]': 'Process temperature',\n",
        "                    'Rotational speed [rpm]': 'Rotational speed',\n",
        "                    'Torque [Nm]': 'Torque',\n",
        "                    'Tool wear [min]': 'Tool wear'}, axis=1, inplace=True)"
      ]
    },
    {
      "cell_type": "markdown",
      "metadata": {
        "id": "-yhJ5iLfThTO"
      },
      "source": [
        "recode productID:\n",
        "consisting of a letter L, M, or H for low (50% of all products), medium (30%), and high (20%) as product quality variants and a variant-specific serial number. The letter corresponds to type, so remove from product ID"
      ]
    },
    {
      "cell_type": "code",
      "execution_count": 13,
      "metadata": {
        "colab": {
          "base_uri": "https://localhost:8080/"
        },
        "id": "FMq7fDJVThTO",
        "outputId": "56038382-c640-465d-f689-f45b12dcc5fd"
      },
      "outputs": [
        {
          "data": {
            "text/plain": [
              "array(['M14860', 'L47181', 'L47182', ..., 'M24857', 'H39412', 'M24859'],\n",
              "      dtype=object)"
            ]
          },
          "execution_count": 13,
          "metadata": {},
          "output_type": "execute_result"
        }
      ],
      "source": [
        "df['Product ID'].unique()"
      ]
    },
    {
      "cell_type": "code",
      "execution_count": 14,
      "metadata": {
        "id": "Kyv-HI8gThTO"
      },
      "outputs": [],
      "source": [
        "data['Product ID'] = data['Product ID'].apply(lambda x: x[1:])\n",
        "data['Product ID'] = pd.to_numeric(data['Product ID'])"
      ]
    },
    {
      "cell_type": "code",
      "execution_count": 15,
      "metadata": {
        "colab": {
          "base_uri": "https://localhost:8080/",
          "height": 504
        },
        "id": "uSWV-Hf7ThTO",
        "outputId": "4eef6572-444e-488e-f921-ee5a93df95b9"
      },
      "outputs": [
        {
          "name": "stderr",
          "output_type": "stream",
          "text": [
            "c:\\Users\\HP\\samle-data\\env\\lib\\site-packages\\IPython\\core\\pylabtools.py:152: UserWarning: Creating legend with loc=\"best\" can be slow with large amounts of data.\n",
            "  fig.canvas.print_figure(bytes_io, **kw)\n"
          ]
        },
        {
          "data": {
            "image/png": "[encoded data removed]",
            "text/plain": [
              "<Figure size 640x480 with 1 Axes>"
            ]
          },
          "metadata": {},
          "output_type": "display_data"
        }
      ],
      "source": [
        "# Histogram of ProductID by Type\n",
        "sns.histplot(data=df, x='Product ID', hue='Type')\n",
        "plt.show()"
      ]
    },
    {
      "cell_type": "code",
      "execution_count": 16,
      "metadata": {
        "colab": {
          "base_uri": "https://localhost:8080/"
        },
        "id": "hum4rvdTThTP",
        "outputId": "457e6a6a-059d-4eb5-ae56-066a74830328"
      },
      "outputs": [
        {
          "name": "stdout",
          "output_type": "stream",
          "text": [
            "Check for duplicate values: False\n"
          ]
        }
      ],
      "source": [
        "n = df.shape[0]\n",
        "\n",
        "print('Check for duplicate values:',\n",
        "      df['Product ID'].unique().shape[0]!=n)"
      ]
    },
    {
      "cell_type": "code",
      "execution_count": 17,
      "metadata": {
        "colab": {
          "base_uri": "https://localhost:8080/",
          "height": 424
        },
        "id": "uGA3hjD-ThTP",
        "outputId": "c1481d55-f37c-4707-8705-2a9e69533236"
      },
      "outputs": [
        {
          "data": {
            "text/html": [
              "<div>\n",
              "<style scoped>\n",
              "    .dataframe tbody tr th:only-of-type {\n",
              "        vertical-align: middle;\n",
              "    }\n",
              "\n",
              "    .dataframe tbody tr th {\n",
              "        vertical-align: top;\n",
              "    }\n",
              "\n",
              "    .dataframe thead th {\n",
              "        text-align: right;\n",
              "    }\n",
              "</style>\n",
              "<table border=\"1\" class=\"dataframe\">\n",
              "  <thead>\n",
              "    <tr style=\"text-align: right;\">\n",
              "      <th></th>\n",
              "      <th>Type</th>\n",
              "      <th>Air temperature</th>\n",
              "      <th>Process temperature</th>\n",
              "      <th>Rotational speed</th>\n",
              "      <th>Torque</th>\n",
              "      <th>Tool wear</th>\n",
              "      <th>Target</th>\n",
              "      <th>Failure Type</th>\n",
              "    </tr>\n",
              "  </thead>\n",
              "  <tbody>\n",
              "    <tr>\n",
              "      <th>0</th>\n",
              "      <td>M</td>\n",
              "      <td>298.1</td>\n",
              "      <td>308.6</td>\n",
              "      <td>1551</td>\n",
              "      <td>42.8</td>\n",
              "      <td>0</td>\n",
              "      <td>0</td>\n",
              "      <td>No Failure</td>\n",
              "    </tr>\n",
              "    <tr>\n",
              "      <th>1</th>\n",
              "      <td>L</td>\n",
              "      <td>298.2</td>\n",
              "      <td>308.7</td>\n",
              "      <td>1408</td>\n",
              "      <td>46.3</td>\n",
              "      <td>3</td>\n",
              "      <td>0</td>\n",
              "      <td>No Failure</td>\n",
              "    </tr>\n",
              "    <tr>\n",
              "      <th>2</th>\n",
              "      <td>L</td>\n",
              "      <td>298.1</td>\n",
              "      <td>308.5</td>\n",
              "      <td>1498</td>\n",
              "      <td>49.4</td>\n",
              "      <td>5</td>\n",
              "      <td>0</td>\n",
              "      <td>No Failure</td>\n",
              "    </tr>\n",
              "    <tr>\n",
              "      <th>3</th>\n",
              "      <td>L</td>\n",
              "      <td>298.2</td>\n",
              "      <td>308.6</td>\n",
              "      <td>1433</td>\n",
              "      <td>39.5</td>\n",
              "      <td>7</td>\n",
              "      <td>0</td>\n",
              "      <td>No Failure</td>\n",
              "    </tr>\n",
              "    <tr>\n",
              "      <th>4</th>\n",
              "      <td>L</td>\n",
              "      <td>298.2</td>\n",
              "      <td>308.7</td>\n",
              "      <td>1408</td>\n",
              "      <td>40.0</td>\n",
              "      <td>9</td>\n",
              "      <td>0</td>\n",
              "      <td>No Failure</td>\n",
              "    </tr>\n",
              "    <tr>\n",
              "      <th>...</th>\n",
              "      <td>...</td>\n",
              "      <td>...</td>\n",
              "      <td>...</td>\n",
              "      <td>...</td>\n",
              "      <td>...</td>\n",
              "      <td>...</td>\n",
              "      <td>...</td>\n",
              "      <td>...</td>\n",
              "    </tr>\n",
              "    <tr>\n",
              "      <th>9995</th>\n",
              "      <td>M</td>\n",
              "      <td>298.8</td>\n",
              "      <td>308.4</td>\n",
              "      <td>1604</td>\n",
              "      <td>29.5</td>\n",
              "      <td>14</td>\n",
              "      <td>0</td>\n",
              "      <td>No Failure</td>\n",
              "    </tr>\n",
              "    <tr>\n",
              "      <th>9996</th>\n",
              "      <td>H</td>\n",
              "      <td>298.9</td>\n",
              "      <td>308.4</td>\n",
              "      <td>1632</td>\n",
              "      <td>31.8</td>\n",
              "      <td>17</td>\n",
              "      <td>0</td>\n",
              "      <td>No Failure</td>\n",
              "    </tr>\n",
              "    <tr>\n",
              "      <th>9997</th>\n",
              "      <td>M</td>\n",
              "      <td>299.0</td>\n",
              "      <td>308.6</td>\n",
              "      <td>1645</td>\n",
              "      <td>33.4</td>\n",
              "      <td>22</td>\n",
              "      <td>0</td>\n",
              "      <td>No Failure</td>\n",
              "    </tr>\n",
              "    <tr>\n",
              "      <th>9998</th>\n",
              "      <td>H</td>\n",
              "      <td>299.0</td>\n",
              "      <td>308.7</td>\n",
              "      <td>1408</td>\n",
              "      <td>48.5</td>\n",
              "      <td>25</td>\n",
              "      <td>0</td>\n",
              "      <td>No Failure</td>\n",
              "    </tr>\n",
              "    <tr>\n",
              "      <th>9999</th>\n",
              "      <td>M</td>\n",
              "      <td>299.0</td>\n",
              "      <td>308.7</td>\n",
              "      <td>1500</td>\n",
              "      <td>40.2</td>\n",
              "      <td>30</td>\n",
              "      <td>0</td>\n",
              "      <td>No Failure</td>\n",
              "    </tr>\n",
              "  </tbody>\n",
              "</table>\n",
              "<p>10000 rows × 8 columns</p>\n",
              "</div>"
            ],
            "text/plain": [
              "     Type  Air temperature  Process temperature  Rotational speed  Torque  \\\n",
              "0       M            298.1                308.6              1551    42.8   \n",
              "1       L            298.2                308.7              1408    46.3   \n",
              "2       L            298.1                308.5              1498    49.4   \n",
              "3       L            298.2                308.6              1433    39.5   \n",
              "4       L            298.2                308.7              1408    40.0   \n",
              "...   ...              ...                  ...               ...     ...   \n",
              "9995    M            298.8                308.4              1604    29.5   \n",
              "9996    H            298.9                308.4              1632    31.8   \n",
              "9997    M            299.0                308.6              1645    33.4   \n",
              "9998    H            299.0                308.7              1408    48.5   \n",
              "9999    M            299.0                308.7              1500    40.2   \n",
              "\n",
              "      Tool wear  Target Failure Type  \n",
              "0             0       0   No Failure  \n",
              "1             3       0   No Failure  \n",
              "2             5       0   No Failure  \n",
              "3             7       0   No Failure  \n",
              "4             9       0   No Failure  \n",
              "...         ...     ...          ...  \n",
              "9995         14       0   No Failure  \n",
              "9996         17       0   No Failure  \n",
              "9997         22       0   No Failure  \n",
              "9998         25       0   No Failure  \n",
              "9999         30       0   No Failure  \n",
              "\n",
              "[10000 rows x 8 columns]"
            ]
          },
          "execution_count": 17,
          "metadata": {},
          "output_type": "execute_result"
        }
      ],
      "source": [
        "# Drop ID columns\n",
        "df1 = df.copy()\n",
        "df1.drop(columns=['UDI','Product ID'], inplace=True)\n",
        "\n",
        "df1"
      ]
    },
    {
      "cell_type": "code",
      "execution_count": 18,
      "metadata": {
        "colab": {
          "base_uri": "https://localhost:8080/",
          "height": 175
        },
        "id": "myK2jFl1ThTP",
        "outputId": "3905575e-2145-4619-aa72-5d482cd94631"
      },
      "outputs": [
        {
          "data": {
            "text/html": [
              "<div>\n",
              "<style scoped>\n",
              "    .dataframe tbody tr th:only-of-type {\n",
              "        vertical-align: middle;\n",
              "    }\n",
              "\n",
              "    .dataframe tbody tr th {\n",
              "        vertical-align: top;\n",
              "    }\n",
              "\n",
              "    .dataframe thead th {\n",
              "        text-align: right;\n",
              "    }\n",
              "</style>\n",
              "<table border=\"1\" class=\"dataframe\">\n",
              "  <thead>\n",
              "    <tr style=\"text-align: right;\">\n",
              "      <th></th>\n",
              "      <th>Type</th>\n",
              "      <th>Count</th>\n",
              "      <th>Percent</th>\n",
              "    </tr>\n",
              "  </thead>\n",
              "  <tbody>\n",
              "    <tr>\n",
              "      <th>0</th>\n",
              "      <td>H</td>\n",
              "      <td>1003</td>\n",
              "      <td>10.0</td>\n",
              "    </tr>\n",
              "    <tr>\n",
              "      <th>1</th>\n",
              "      <td>L</td>\n",
              "      <td>6000</td>\n",
              "      <td>60.0</td>\n",
              "    </tr>\n",
              "    <tr>\n",
              "      <th>2</th>\n",
              "      <td>M</td>\n",
              "      <td>2997</td>\n",
              "      <td>30.0</td>\n",
              "    </tr>\n",
              "    <tr>\n",
              "      <th>3</th>\n",
              "      <td>Total</td>\n",
              "      <td>10000</td>\n",
              "      <td>100.0</td>\n",
              "    </tr>\n",
              "  </tbody>\n",
              "</table>\n",
              "</div>"
            ],
            "text/plain": [
              "    Type  Count  Percent\n",
              "0      H   1003     10.0\n",
              "1      L   6000     60.0\n",
              "2      M   2997     30.0\n",
              "3  Total  10000    100.0"
            ]
          },
          "execution_count": 18,
          "metadata": {},
          "output_type": "execute_result"
        }
      ],
      "source": [
        "freq_percent_table(df1, 'Type')"
      ]
    },
    {
      "cell_type": "markdown",
      "metadata": {
        "id": "gFsk1hu0ThTP"
      },
      "source": [
        "Anomaly detection\n",
        "\n",
        "There are several kind of machine failures. However, there is one called random failure and there are 18 cases. I will decide to remove them because they provide not enough information and also the target was 0 meaning that it must be an error or something like that."
      ]
    },
    {
      "cell_type": "code",
      "execution_count": 19,
      "metadata": {
        "colab": {
          "base_uri": "https://localhost:8080/"
        },
        "id": "tPtb-BRIThTQ",
        "outputId": "f626b37a-79eb-4d2a-b48c-661d0592daa0"
      },
      "outputs": [
        {
          "data": {
            "text/plain": [
              "array(['No Failure', 'Power Failure', 'Tool Wear Failure',\n",
              "       'Overstrain Failure', 'Random Failures',\n",
              "       'Heat Dissipation Failure'], dtype=object)"
            ]
          },
          "execution_count": 19,
          "metadata": {},
          "output_type": "execute_result"
        }
      ],
      "source": [
        "df1['Failure Type'].unique()"
      ]
    },
    {
      "cell_type": "code",
      "execution_count": 20,
      "metadata": {
        "colab": {
          "base_uri": "https://localhost:8080/"
        },
        "id": "u_iRBxBeThTQ",
        "outputId": "043fa8f3-8198-4b14-8a20-fdc868fdb785"
      },
      "outputs": [
        {
          "data": {
            "text/plain": [
              "18"
            ]
          },
          "execution_count": 20,
          "metadata": {},
          "output_type": "execute_result"
        }
      ],
      "source": [
        "count = (df1['Failure Type'] == 'Random Failures').sum()\n",
        "count"
      ]
    },
    {
      "cell_type": "code",
      "execution_count": 21,
      "metadata": {
        "colab": {
          "base_uri": "https://localhost:8080/",
          "height": 614
        },
        "id": "PKbM9YXrThTQ",
        "outputId": "0f429d12-cf6d-46c8-f593-c6817ac82c71"
      },
      "outputs": [
        {
          "data": {
            "text/html": [
              "<div>\n",
              "<style scoped>\n",
              "    .dataframe tbody tr th:only-of-type {\n",
              "        vertical-align: middle;\n",
              "    }\n",
              "\n",
              "    .dataframe tbody tr th {\n",
              "        vertical-align: top;\n",
              "    }\n",
              "\n",
              "    .dataframe thead th {\n",
              "        text-align: right;\n",
              "    }\n",
              "</style>\n",
              "<table border=\"1\" class=\"dataframe\">\n",
              "  <thead>\n",
              "    <tr style=\"text-align: right;\">\n",
              "      <th></th>\n",
              "      <th>Type</th>\n",
              "      <th>Air temperature</th>\n",
              "      <th>Process temperature</th>\n",
              "      <th>Rotational speed</th>\n",
              "      <th>Torque</th>\n",
              "      <th>Tool wear</th>\n",
              "      <th>Target</th>\n",
              "      <th>Failure Type</th>\n",
              "    </tr>\n",
              "  </thead>\n",
              "  <tbody>\n",
              "    <tr>\n",
              "      <th>1221</th>\n",
              "      <td>M</td>\n",
              "      <td>297.0</td>\n",
              "      <td>308.3</td>\n",
              "      <td>1399</td>\n",
              "      <td>46.4</td>\n",
              "      <td>132</td>\n",
              "      <td>0</td>\n",
              "      <td>Random Failures</td>\n",
              "    </tr>\n",
              "    <tr>\n",
              "      <th>1302</th>\n",
              "      <td>L</td>\n",
              "      <td>298.6</td>\n",
              "      <td>309.8</td>\n",
              "      <td>1505</td>\n",
              "      <td>45.7</td>\n",
              "      <td>144</td>\n",
              "      <td>0</td>\n",
              "      <td>Random Failures</td>\n",
              "    </tr>\n",
              "    <tr>\n",
              "      <th>1748</th>\n",
              "      <td>H</td>\n",
              "      <td>298.4</td>\n",
              "      <td>307.7</td>\n",
              "      <td>1626</td>\n",
              "      <td>31.1</td>\n",
              "      <td>166</td>\n",
              "      <td>0</td>\n",
              "      <td>Random Failures</td>\n",
              "    </tr>\n",
              "    <tr>\n",
              "      <th>2072</th>\n",
              "      <td>L</td>\n",
              "      <td>299.6</td>\n",
              "      <td>309.5</td>\n",
              "      <td>1570</td>\n",
              "      <td>35.5</td>\n",
              "      <td>189</td>\n",
              "      <td>0</td>\n",
              "      <td>Random Failures</td>\n",
              "    </tr>\n",
              "    <tr>\n",
              "      <th>2559</th>\n",
              "      <td>L</td>\n",
              "      <td>299.3</td>\n",
              "      <td>309.0</td>\n",
              "      <td>1447</td>\n",
              "      <td>50.4</td>\n",
              "      <td>140</td>\n",
              "      <td>0</td>\n",
              "      <td>Random Failures</td>\n",
              "    </tr>\n",
              "    <tr>\n",
              "      <th>3065</th>\n",
              "      <td>M</td>\n",
              "      <td>300.1</td>\n",
              "      <td>309.2</td>\n",
              "      <td>1687</td>\n",
              "      <td>27.7</td>\n",
              "      <td>95</td>\n",
              "      <td>0</td>\n",
              "      <td>Random Failures</td>\n",
              "    </tr>\n",
              "    <tr>\n",
              "      <th>3452</th>\n",
              "      <td>H</td>\n",
              "      <td>301.6</td>\n",
              "      <td>310.5</td>\n",
              "      <td>1602</td>\n",
              "      <td>32.3</td>\n",
              "      <td>2</td>\n",
              "      <td>0</td>\n",
              "      <td>Random Failures</td>\n",
              "    </tr>\n",
              "    <tr>\n",
              "      <th>5471</th>\n",
              "      <td>L</td>\n",
              "      <td>302.7</td>\n",
              "      <td>312.3</td>\n",
              "      <td>1346</td>\n",
              "      <td>61.2</td>\n",
              "      <td>170</td>\n",
              "      <td>0</td>\n",
              "      <td>Random Failures</td>\n",
              "    </tr>\n",
              "    <tr>\n",
              "      <th>5489</th>\n",
              "      <td>L</td>\n",
              "      <td>302.6</td>\n",
              "      <td>312.1</td>\n",
              "      <td>1499</td>\n",
              "      <td>35.0</td>\n",
              "      <td>215</td>\n",
              "      <td>0</td>\n",
              "      <td>Random Failures</td>\n",
              "    </tr>\n",
              "    <tr>\n",
              "      <th>5495</th>\n",
              "      <td>H</td>\n",
              "      <td>302.9</td>\n",
              "      <td>312.5</td>\n",
              "      <td>1357</td>\n",
              "      <td>55.0</td>\n",
              "      <td>12</td>\n",
              "      <td>0</td>\n",
              "      <td>Random Failures</td>\n",
              "    </tr>\n",
              "    <tr>\n",
              "      <th>5509</th>\n",
              "      <td>L</td>\n",
              "      <td>302.8</td>\n",
              "      <td>312.2</td>\n",
              "      <td>1509</td>\n",
              "      <td>36.5</td>\n",
              "      <td>52</td>\n",
              "      <td>0</td>\n",
              "      <td>Random Failures</td>\n",
              "    </tr>\n",
              "    <tr>\n",
              "      <th>5553</th>\n",
              "      <td>L</td>\n",
              "      <td>302.5</td>\n",
              "      <td>311.9</td>\n",
              "      <td>1306</td>\n",
              "      <td>59.7</td>\n",
              "      <td>172</td>\n",
              "      <td>0</td>\n",
              "      <td>Random Failures</td>\n",
              "    </tr>\n",
              "    <tr>\n",
              "      <th>5639</th>\n",
              "      <td>L</td>\n",
              "      <td>302.6</td>\n",
              "      <td>312.1</td>\n",
              "      <td>1668</td>\n",
              "      <td>28.7</td>\n",
              "      <td>180</td>\n",
              "      <td>0</td>\n",
              "      <td>Random Failures</td>\n",
              "    </tr>\n",
              "    <tr>\n",
              "      <th>6091</th>\n",
              "      <td>L</td>\n",
              "      <td>300.9</td>\n",
              "      <td>310.7</td>\n",
              "      <td>1412</td>\n",
              "      <td>57.5</td>\n",
              "      <td>16</td>\n",
              "      <td>0</td>\n",
              "      <td>Random Failures</td>\n",
              "    </tr>\n",
              "    <tr>\n",
              "      <th>6913</th>\n",
              "      <td>L</td>\n",
              "      <td>300.8</td>\n",
              "      <td>311.2</td>\n",
              "      <td>1481</td>\n",
              "      <td>38.5</td>\n",
              "      <td>181</td>\n",
              "      <td>0</td>\n",
              "      <td>Random Failures</td>\n",
              "    </tr>\n",
              "    <tr>\n",
              "      <th>6960</th>\n",
              "      <td>L</td>\n",
              "      <td>300.7</td>\n",
              "      <td>311.0</td>\n",
              "      <td>1413</td>\n",
              "      <td>52.0</td>\n",
              "      <td>91</td>\n",
              "      <td>0</td>\n",
              "      <td>Random Failures</td>\n",
              "    </tr>\n",
              "    <tr>\n",
              "      <th>7488</th>\n",
              "      <td>L</td>\n",
              "      <td>300.3</td>\n",
              "      <td>311.7</td>\n",
              "      <td>1545</td>\n",
              "      <td>43.5</td>\n",
              "      <td>160</td>\n",
              "      <td>0</td>\n",
              "      <td>Random Failures</td>\n",
              "    </tr>\n",
              "    <tr>\n",
              "      <th>7868</th>\n",
              "      <td>H</td>\n",
              "      <td>300.4</td>\n",
              "      <td>311.9</td>\n",
              "      <td>1438</td>\n",
              "      <td>46.7</td>\n",
              "      <td>41</td>\n",
              "      <td>0</td>\n",
              "      <td>Random Failures</td>\n",
              "    </tr>\n",
              "  </tbody>\n",
              "</table>\n",
              "</div>"
            ],
            "text/plain": [
              "     Type  Air temperature  Process temperature  Rotational speed  Torque  \\\n",
              "1221    M            297.0                308.3              1399    46.4   \n",
              "1302    L            298.6                309.8              1505    45.7   \n",
              "1748    H            298.4                307.7              1626    31.1   \n",
              "2072    L            299.6                309.5              1570    35.5   \n",
              "2559    L            299.3                309.0              1447    50.4   \n",
              "3065    M            300.1                309.2              1687    27.7   \n",
              "3452    H            301.6                310.5              1602    32.3   \n",
              "5471    L            302.7                312.3              1346    61.2   \n",
              "5489    L            302.6                312.1              1499    35.0   \n",
              "5495    H            302.9                312.5              1357    55.0   \n",
              "5509    L            302.8                312.2              1509    36.5   \n",
              "5553    L            302.5                311.9              1306    59.7   \n",
              "5639    L            302.6                312.1              1668    28.7   \n",
              "6091    L            300.9                310.7              1412    57.5   \n",
              "6913    L            300.8                311.2              1481    38.5   \n",
              "6960    L            300.7                311.0              1413    52.0   \n",
              "7488    L            300.3                311.7              1545    43.5   \n",
              "7868    H            300.4                311.9              1438    46.7   \n",
              "\n",
              "      Tool wear  Target     Failure Type  \n",
              "1221        132       0  Random Failures  \n",
              "1302        144       0  Random Failures  \n",
              "1748        166       0  Random Failures  \n",
              "2072        189       0  Random Failures  \n",
              "2559        140       0  Random Failures  \n",
              "3065         95       0  Random Failures  \n",
              "3452          2       0  Random Failures  \n",
              "5471        170       0  Random Failures  \n",
              "5489        215       0  Random Failures  \n",
              "5495         12       0  Random Failures  \n",
              "5509         52       0  Random Failures  \n",
              "5553        172       0  Random Failures  \n",
              "5639        180       0  Random Failures  \n",
              "6091         16       0  Random Failures  \n",
              "6913        181       0  Random Failures  \n",
              "6960         91       0  Random Failures  \n",
              "7488        160       0  Random Failures  \n",
              "7868         41       0  Random Failures  "
            ]
          },
          "execution_count": 21,
          "metadata": {},
          "output_type": "execute_result"
        }
      ],
      "source": [
        "df1[df1['Failure Type'] == 'Random Failures']"
      ]
    },
    {
      "cell_type": "code",
      "execution_count": 22,
      "metadata": {
        "id": "qozNFo5BThTQ"
      },
      "outputs": [],
      "source": [
        "df1 = df1[df1['Failure Type'] != 'Random Failures']"
      ]
    },
    {
      "cell_type": "code",
      "execution_count": 23,
      "metadata": {
        "colab": {
          "base_uri": "https://localhost:8080/"
        },
        "id": "G7CZ4ElNThTQ",
        "outputId": "74a98e50-61c6-44ca-f8ee-e485678ff715"
      },
      "outputs": [
        {
          "data": {
            "text/plain": [
              "Index([1437, 2749, 4044, 4684, 5536, 5941, 6478, 8506, 9015], dtype='int64')"
            ]
          },
          "execution_count": 23,
          "metadata": {},
          "output_type": "execute_result"
        }
      ],
      "source": [
        "ambi = df1.loc[(df['Target']==1) & (df1['Failure Type']=='No Failure')].index\n",
        "ambi"
      ]
    },
    {
      "cell_type": "code",
      "execution_count": 24,
      "metadata": {
        "colab": {
          "base_uri": "https://localhost:8080/",
          "height": 510
        },
        "id": "irc8Qfg9ThTR",
        "outputId": "3090ff69-1363-452a-cf7b-056769ed53b8"
      },
      "outputs": [
        {
          "name": "stderr",
          "output_type": "stream",
          "text": [
            "C:\\Users\\HP\\AppData\\Local\\Temp\\ipykernel_22104\\377306681.py:1: SettingWithCopyWarning: \n",
            "A value is trying to be set on a copy of a slice from a DataFrame\n",
            "\n",
            "See the caveats in the documentation: https://pandas.pydata.org/pandas-docs/stable/user_guide/indexing.html#returning-a-view-versus-a-copy\n",
            "  df1.drop(index=ambi, inplace=True)\n"
          ]
        },
        {
          "data": {
            "text/html": [
              "<div>\n",
              "<style scoped>\n",
              "    .dataframe tbody tr th:only-of-type {\n",
              "        vertical-align: middle;\n",
              "    }\n",
              "\n",
              "    .dataframe tbody tr th {\n",
              "        vertical-align: top;\n",
              "    }\n",
              "\n",
              "    .dataframe thead th {\n",
              "        text-align: right;\n",
              "    }\n",
              "</style>\n",
              "<table border=\"1\" class=\"dataframe\">\n",
              "  <thead>\n",
              "    <tr style=\"text-align: right;\">\n",
              "      <th></th>\n",
              "      <th>Type</th>\n",
              "      <th>Air temperature</th>\n",
              "      <th>Process temperature</th>\n",
              "      <th>Rotational speed</th>\n",
              "      <th>Torque</th>\n",
              "      <th>Tool wear</th>\n",
              "      <th>Target</th>\n",
              "      <th>Failure Type</th>\n",
              "    </tr>\n",
              "  </thead>\n",
              "  <tbody>\n",
              "    <tr>\n",
              "      <th>0</th>\n",
              "      <td>M</td>\n",
              "      <td>298.1</td>\n",
              "      <td>308.6</td>\n",
              "      <td>1551</td>\n",
              "      <td>42.8</td>\n",
              "      <td>0</td>\n",
              "      <td>0</td>\n",
              "      <td>No Failure</td>\n",
              "    </tr>\n",
              "    <tr>\n",
              "      <th>1</th>\n",
              "      <td>L</td>\n",
              "      <td>298.2</td>\n",
              "      <td>308.7</td>\n",
              "      <td>1408</td>\n",
              "      <td>46.3</td>\n",
              "      <td>3</td>\n",
              "      <td>0</td>\n",
              "      <td>No Failure</td>\n",
              "    </tr>\n",
              "    <tr>\n",
              "      <th>2</th>\n",
              "      <td>L</td>\n",
              "      <td>298.1</td>\n",
              "      <td>308.5</td>\n",
              "      <td>1498</td>\n",
              "      <td>49.4</td>\n",
              "      <td>5</td>\n",
              "      <td>0</td>\n",
              "      <td>No Failure</td>\n",
              "    </tr>\n",
              "    <tr>\n",
              "      <th>3</th>\n",
              "      <td>L</td>\n",
              "      <td>298.2</td>\n",
              "      <td>308.6</td>\n",
              "      <td>1433</td>\n",
              "      <td>39.5</td>\n",
              "      <td>7</td>\n",
              "      <td>0</td>\n",
              "      <td>No Failure</td>\n",
              "    </tr>\n",
              "    <tr>\n",
              "      <th>4</th>\n",
              "      <td>L</td>\n",
              "      <td>298.2</td>\n",
              "      <td>308.7</td>\n",
              "      <td>1408</td>\n",
              "      <td>40.0</td>\n",
              "      <td>9</td>\n",
              "      <td>0</td>\n",
              "      <td>No Failure</td>\n",
              "    </tr>\n",
              "    <tr>\n",
              "      <th>...</th>\n",
              "      <td>...</td>\n",
              "      <td>...</td>\n",
              "      <td>...</td>\n",
              "      <td>...</td>\n",
              "      <td>...</td>\n",
              "      <td>...</td>\n",
              "      <td>...</td>\n",
              "      <td>...</td>\n",
              "    </tr>\n",
              "    <tr>\n",
              "      <th>9995</th>\n",
              "      <td>M</td>\n",
              "      <td>298.8</td>\n",
              "      <td>308.4</td>\n",
              "      <td>1604</td>\n",
              "      <td>29.5</td>\n",
              "      <td>14</td>\n",
              "      <td>0</td>\n",
              "      <td>No Failure</td>\n",
              "    </tr>\n",
              "    <tr>\n",
              "      <th>9996</th>\n",
              "      <td>H</td>\n",
              "      <td>298.9</td>\n",
              "      <td>308.4</td>\n",
              "      <td>1632</td>\n",
              "      <td>31.8</td>\n",
              "      <td>17</td>\n",
              "      <td>0</td>\n",
              "      <td>No Failure</td>\n",
              "    </tr>\n",
              "    <tr>\n",
              "      <th>9997</th>\n",
              "      <td>M</td>\n",
              "      <td>299.0</td>\n",
              "      <td>308.6</td>\n",
              "      <td>1645</td>\n",
              "      <td>33.4</td>\n",
              "      <td>22</td>\n",
              "      <td>0</td>\n",
              "      <td>No Failure</td>\n",
              "    </tr>\n",
              "    <tr>\n",
              "      <th>9998</th>\n",
              "      <td>H</td>\n",
              "      <td>299.0</td>\n",
              "      <td>308.7</td>\n",
              "      <td>1408</td>\n",
              "      <td>48.5</td>\n",
              "      <td>25</td>\n",
              "      <td>0</td>\n",
              "      <td>No Failure</td>\n",
              "    </tr>\n",
              "    <tr>\n",
              "      <th>9999</th>\n",
              "      <td>M</td>\n",
              "      <td>299.0</td>\n",
              "      <td>308.7</td>\n",
              "      <td>1500</td>\n",
              "      <td>40.2</td>\n",
              "      <td>30</td>\n",
              "      <td>0</td>\n",
              "      <td>No Failure</td>\n",
              "    </tr>\n",
              "  </tbody>\n",
              "</table>\n",
              "<p>9973 rows × 8 columns</p>\n",
              "</div>"
            ],
            "text/plain": [
              "     Type  Air temperature  Process temperature  Rotational speed  Torque  \\\n",
              "0       M            298.1                308.6              1551    42.8   \n",
              "1       L            298.2                308.7              1408    46.3   \n",
              "2       L            298.1                308.5              1498    49.4   \n",
              "3       L            298.2                308.6              1433    39.5   \n",
              "4       L            298.2                308.7              1408    40.0   \n",
              "...   ...              ...                  ...               ...     ...   \n",
              "9995    M            298.8                308.4              1604    29.5   \n",
              "9996    H            298.9                308.4              1632    31.8   \n",
              "9997    M            299.0                308.6              1645    33.4   \n",
              "9998    H            299.0                308.7              1408    48.5   \n",
              "9999    M            299.0                308.7              1500    40.2   \n",
              "\n",
              "      Tool wear  Target Failure Type  \n",
              "0             0       0   No Failure  \n",
              "1             3       0   No Failure  \n",
              "2             5       0   No Failure  \n",
              "3             7       0   No Failure  \n",
              "4             9       0   No Failure  \n",
              "...         ...     ...          ...  \n",
              "9995         14       0   No Failure  \n",
              "9996         17       0   No Failure  \n",
              "9997         22       0   No Failure  \n",
              "9998         25       0   No Failure  \n",
              "9999         30       0   No Failure  \n",
              "\n",
              "[9973 rows x 8 columns]"
            ]
          },
          "execution_count": 24,
          "metadata": {},
          "output_type": "execute_result"
        }
      ],
      "source": [
        "df1.drop(index=ambi, inplace=True)\n",
        "df1"
      ]
    },
    {
      "cell_type": "markdown",
      "metadata": {
        "id": "eSqyyKThThTR"
      },
      "source": [
        "outliers"
      ]
    },
    {
      "cell_type": "code",
      "execution_count": 25,
      "metadata": {
        "colab": {
          "base_uri": "https://localhost:8080/",
          "height": 607
        },
        "id": "Knl6B4hbThTR",
        "outputId": "8ccc2551-4d94-4042-df30-97711bb8f9c4"
      },
      "outputs": [
        {
          "data": {
            "image/png": "[encoded data removed]",
            "text/plain": [
              "<Figure size 1000x600 with 1 Axes>"
            ]
          },
          "metadata": {},
          "output_type": "display_data"
        }
      ],
      "source": [
        "continuous_vars = df1.select_dtypes(include=['float64', 'int64'])\n",
        "\n",
        "plt.figure(figsize=(10, 6))  # Adjust the size as per your need\n",
        "sns.boxplot(data=continuous_vars)\n",
        "plt.xticks(rotation=45)  # Rotates the labels on the x-axis for better readability\n",
        "plt.tight_layout()  # Adjusts subplot params for the subplot(s) to fit in to the figure area\n",
        "plt.show()"
      ]
    },
    {
      "cell_type": "code",
      "execution_count": 26,
      "metadata": {
        "colab": {
          "base_uri": "https://localhost:8080/",
          "height": 980
        },
        "id": "zWpA09KzThTR",
        "outputId": "554c14ba-56dd-4836-a674-328ead1b2c2b"
      },
      "outputs": [
        {
          "data": {
            "image/png": "[encoded data removed]",
            "text/plain": [
              "<Figure size 1400x1200 with 6 Axes>"
            ]
          },
          "metadata": {},
          "output_type": "display_data"
        }
      ],
      "source": [
        "n_vars = len(continuous_vars.columns)\n",
        "n_rows = int(np.ceil(n_vars / 2))  # Adjust the number of rows as needed\n",
        "fig, axes = plt.subplots(n_rows, 2, figsize=(14, n_rows * 4))  # Adjust figure size as needed\n",
        "axes = axes.flatten()  # Flatten the grid to 1D array for easy indexing\n",
        "\n",
        "# Plot each variable in its subplot\n",
        "for i, column in enumerate(continuous_vars.columns):\n",
        "    sns.histplot(continuous_vars[column], ax=axes[i], kde=True)\n",
        "    axes[i].set_title(f'Histogram of {column}')\n",
        "    axes[i].set_xlabel(column)\n",
        "    axes[i].set_ylabel('Frequency')\n",
        "\n",
        "# If the number of variables is odd, the last subplot will be empty, so you can hide it\n",
        "if n_vars % 2 != 0:\n",
        "    fig.delaxes(axes[-1])\n",
        "\n",
        "plt.tight_layout()\n",
        "plt.show()"
      ]
    },
    {
      "cell_type": "markdown",
      "metadata": {
        "id": "OapeSiPpThTR"
      },
      "source": [
        "Split data"
      ]
    },
    {
      "cell_type": "code",
      "execution_count": 27,
      "metadata": {
        "id": "GqdiqXRdThTR"
      },
      "outputs": [],
      "source": [
        "#Split df_1 into test and train sets\n",
        "\n",
        "y = df1['Target']\n",
        "X = df1.drop('Target', axis=1)\n",
        "\n",
        "from sklearn.preprocessing import LabelEncoder\n",
        "\n",
        "encoder = LabelEncoder()\n",
        "\n",
        "for column in X.columns:\n",
        "    if X[column].dtype == 'object':  # Assuming object dtype implies categorical\n",
        "        X[column] = encoder.fit_transform(X[column])\n",
        "\n"
      ]
    },
    {
      "cell_type": "code",
      "execution_count": 28,
      "metadata": {
        "id": "cR6oiX0AThTR"
      },
      "outputs": [],
      "source": [
        "X_train, X_test, y_train, y_test = train_test_split(X, y, test_size=0.25, random_state=0)"
      ]
    },
    {
      "cell_type": "code",
      "execution_count": 29,
      "metadata": {
        "colab": {
          "base_uri": "https://localhost:8080/"
        },
        "id": "LBvL7ro5ThTR",
        "outputId": "539fdb25-bfb9-4707-a815-60f3afdc589a"
      },
      "outputs": [
        {
          "name": "stdout",
          "output_type": "stream",
          "text": [
            "Type                     int32\n",
            "Air temperature        float64\n",
            "Process temperature    float64\n",
            "Rotational speed         int64\n",
            "Torque                 float64\n",
            "Tool wear                int64\n",
            "Failure Type             int32\n",
            "dtype: object\n"
          ]
        }
      ],
      "source": [
        "print(X_train.dtypes)"
      ]
    },
    {
      "cell_type": "markdown",
      "metadata": {
        "id": "CvUdYnEzThTS"
      },
      "source": [
        "# Balance data\n",
        "\n",
        "From some readings online, I will balance the data before scaling."
      ]
    },
    {
      "cell_type": "code",
      "execution_count": 30,
      "metadata": {
        "id": "c5ka5lAJThTS"
      },
      "outputs": [],
      "source": [
        "from imblearn.over_sampling import SMOTE\n",
        "\n",
        "# Initialize SMOTE\n",
        "smote = SMOTE(random_state=0)\n",
        "\n",
        "# Apply SMOTE on the training data only\n",
        "X_train_smote, y_train_smote = smote.fit_resample(X_train, y_train)\n",
        "\n",
        "# Now X_train_smote and y_train_smote have balanced classes"
      ]
    },
    {
      "cell_type": "markdown",
      "metadata": {
        "id": "2xjv-Q6rThTS"
      },
      "source": [
        "## Post balance"
      ]
    },
    {
      "cell_type": "code",
      "execution_count": 31,
      "metadata": {
        "colab": {
          "base_uri": "https://localhost:8080/",
          "height": 237
        },
        "id": "g8o697DtThTS",
        "outputId": "cf936ebd-b017-47d0-d048-6ed3be5a7768"
      },
      "outputs": [
        {
          "data": {
            "text/html": [
              "<div>\n",
              "<style scoped>\n",
              "    .dataframe tbody tr th:only-of-type {\n",
              "        vertical-align: middle;\n",
              "    }\n",
              "\n",
              "    .dataframe tbody tr th {\n",
              "        vertical-align: top;\n",
              "    }\n",
              "\n",
              "    .dataframe thead th {\n",
              "        text-align: right;\n",
              "    }\n",
              "</style>\n",
              "<table border=\"1\" class=\"dataframe\">\n",
              "  <thead>\n",
              "    <tr style=\"text-align: right;\">\n",
              "      <th></th>\n",
              "      <th>Failure Type</th>\n",
              "      <th>Count</th>\n",
              "      <th>Percent</th>\n",
              "    </tr>\n",
              "  </thead>\n",
              "  <tbody>\n",
              "    <tr>\n",
              "      <th>0</th>\n",
              "      <td>0</td>\n",
              "      <td>2276</td>\n",
              "      <td>16.0</td>\n",
              "    </tr>\n",
              "    <tr>\n",
              "      <th>1</th>\n",
              "      <td>1</td>\n",
              "      <td>7837</td>\n",
              "      <td>54.0</td>\n",
              "    </tr>\n",
              "    <tr>\n",
              "      <th>2</th>\n",
              "      <td>2</td>\n",
              "      <td>2051</td>\n",
              "      <td>14.0</td>\n",
              "    </tr>\n",
              "    <tr>\n",
              "      <th>3</th>\n",
              "      <td>3</td>\n",
              "      <td>1643</td>\n",
              "      <td>11.0</td>\n",
              "    </tr>\n",
              "    <tr>\n",
              "      <th>4</th>\n",
              "      <td>4</td>\n",
              "      <td>667</td>\n",
              "      <td>5.0</td>\n",
              "    </tr>\n",
              "    <tr>\n",
              "      <th>5</th>\n",
              "      <td>Total</td>\n",
              "      <td>14474</td>\n",
              "      <td>100.0</td>\n",
              "    </tr>\n",
              "  </tbody>\n",
              "</table>\n",
              "</div>"
            ],
            "text/plain": [
              "  Failure Type  Count  Percent\n",
              "0            0   2276     16.0\n",
              "1            1   7837     54.0\n",
              "2            2   2051     14.0\n",
              "3            3   1643     11.0\n",
              "4            4    667      5.0\n",
              "5        Total  14474    100.0"
            ]
          },
          "execution_count": 31,
          "metadata": {},
          "output_type": "execute_result"
        }
      ],
      "source": [
        "freq_percent_table(X_train_smote, 'Failure Type')"
      ]
    },
    {
      "cell_type": "markdown",
      "metadata": {
        "id": "d1eJAJlAThTS"
      },
      "source": [
        "## pre balance"
      ]
    },
    {
      "cell_type": "code",
      "execution_count": 32,
      "metadata": {
        "colab": {
          "base_uri": "https://localhost:8080/",
          "height": 269
        },
        "id": "0QyOIE2tThTS",
        "outputId": "8aa6e5b8-53ec-4c81-df17-2ca1bc600455"
      },
      "outputs": [
        {
          "data": {
            "text/html": [
              "<div>\n",
              "<style scoped>\n",
              "    .dataframe tbody tr th:only-of-type {\n",
              "        vertical-align: middle;\n",
              "    }\n",
              "\n",
              "    .dataframe tbody tr th {\n",
              "        vertical-align: top;\n",
              "    }\n",
              "\n",
              "    .dataframe thead th {\n",
              "        text-align: right;\n",
              "    }\n",
              "</style>\n",
              "<table border=\"1\" class=\"dataframe\">\n",
              "  <thead>\n",
              "    <tr style=\"text-align: right;\">\n",
              "      <th></th>\n",
              "      <th>Failure Type</th>\n",
              "      <th>Count</th>\n",
              "      <th>Percent</th>\n",
              "    </tr>\n",
              "  </thead>\n",
              "  <tbody>\n",
              "    <tr>\n",
              "      <th>0</th>\n",
              "      <td>Heat Dissipation Failure</td>\n",
              "      <td>112</td>\n",
              "      <td>1.0</td>\n",
              "    </tr>\n",
              "    <tr>\n",
              "      <th>1</th>\n",
              "      <td>No Failure</td>\n",
              "      <td>9652</td>\n",
              "      <td>97.0</td>\n",
              "    </tr>\n",
              "    <tr>\n",
              "      <th>2</th>\n",
              "      <td>Overstrain Failure</td>\n",
              "      <td>78</td>\n",
              "      <td>1.0</td>\n",
              "    </tr>\n",
              "    <tr>\n",
              "      <th>3</th>\n",
              "      <td>Power Failure</td>\n",
              "      <td>95</td>\n",
              "      <td>1.0</td>\n",
              "    </tr>\n",
              "    <tr>\n",
              "      <th>4</th>\n",
              "      <td>Random Failures</td>\n",
              "      <td>18</td>\n",
              "      <td>0.0</td>\n",
              "    </tr>\n",
              "    <tr>\n",
              "      <th>5</th>\n",
              "      <td>Tool Wear Failure</td>\n",
              "      <td>45</td>\n",
              "      <td>0.0</td>\n",
              "    </tr>\n",
              "    <tr>\n",
              "      <th>6</th>\n",
              "      <td>Total</td>\n",
              "      <td>10000</td>\n",
              "      <td>100.0</td>\n",
              "    </tr>\n",
              "  </tbody>\n",
              "</table>\n",
              "</div>"
            ],
            "text/plain": [
              "               Failure Type  Count  Percent\n",
              "0  Heat Dissipation Failure    112      1.0\n",
              "1                No Failure   9652     97.0\n",
              "2        Overstrain Failure     78      1.0\n",
              "3             Power Failure     95      1.0\n",
              "4           Random Failures     18      0.0\n",
              "5         Tool Wear Failure     45      0.0\n",
              "6                     Total  10000    100.0"
            ]
          },
          "execution_count": 32,
          "metadata": {},
          "output_type": "execute_result"
        }
      ],
      "source": [
        "freq_percent_table(data, 'Failure Type')"
      ]
    },
    {
      "cell_type": "code",
      "execution_count": 33,
      "metadata": {
        "colab": {
          "base_uri": "https://localhost:8080/"
        },
        "id": "PA2hqHFvThTS",
        "outputId": "93219a12-24bc-4a1f-9448-a6480a1cdc3e"
      },
      "outputs": [
        {
          "data": {
            "text/plain": [
              "Target\n",
              "0    9661\n",
              "1     339\n",
              "Name: count, dtype: int64"
            ]
          },
          "execution_count": 33,
          "metadata": {},
          "output_type": "execute_result"
        }
      ],
      "source": [
        "data['Target'].value_counts()"
      ]
    },
    {
      "cell_type": "code",
      "execution_count": 34,
      "metadata": {
        "colab": {
          "base_uri": "https://localhost:8080/"
        },
        "id": "7TyOG1BHThTT",
        "outputId": "6dde1ab4-6ca4-4bae-cac5-c14161d13281"
      },
      "outputs": [
        {
          "data": {
            "text/plain": [
              "Target\n",
              "0    7237\n",
              "1    7237\n",
              "Name: count, dtype: int64"
            ]
          },
          "execution_count": 34,
          "metadata": {},
          "output_type": "execute_result"
        }
      ],
      "source": [
        "y_train_smote.value_counts()"
      ]
    },
    {
      "cell_type": "markdown",
      "metadata": {
        "id": "y-OwkIX3ThTT"
      },
      "source": [
        "## inspecting fails"
      ]
    },
    {
      "cell_type": "code",
      "execution_count": 35,
      "metadata": {
        "colab": {
          "base_uri": "https://localhost:8080/",
          "height": 424
        },
        "id": "NTkUfvJyThTT",
        "outputId": "369bf16e-44f4-415b-f4ff-de9afed32b2b"
      },
      "outputs": [
        {
          "data": {
            "text/html": [
              "<div>\n",
              "<style scoped>\n",
              "    .dataframe tbody tr th:only-of-type {\n",
              "        vertical-align: middle;\n",
              "    }\n",
              "\n",
              "    .dataframe tbody tr th {\n",
              "        vertical-align: top;\n",
              "    }\n",
              "\n",
              "    .dataframe thead th {\n",
              "        text-align: right;\n",
              "    }\n",
              "</style>\n",
              "<table border=\"1\" class=\"dataframe\">\n",
              "  <thead>\n",
              "    <tr style=\"text-align: right;\">\n",
              "      <th></th>\n",
              "      <th>Type</th>\n",
              "      <th>Air temperature</th>\n",
              "      <th>Process temperature</th>\n",
              "      <th>Rotational speed</th>\n",
              "      <th>Torque</th>\n",
              "      <th>Tool wear</th>\n",
              "      <th>Target</th>\n",
              "      <th>Failure Type</th>\n",
              "    </tr>\n",
              "  </thead>\n",
              "  <tbody>\n",
              "    <tr>\n",
              "      <th>50</th>\n",
              "      <td>L</td>\n",
              "      <td>298.9</td>\n",
              "      <td>309.1</td>\n",
              "      <td>2861</td>\n",
              "      <td>4.6</td>\n",
              "      <td>143</td>\n",
              "      <td>1</td>\n",
              "      <td>Power Failure</td>\n",
              "    </tr>\n",
              "    <tr>\n",
              "      <th>69</th>\n",
              "      <td>L</td>\n",
              "      <td>298.9</td>\n",
              "      <td>309.0</td>\n",
              "      <td>1410</td>\n",
              "      <td>65.7</td>\n",
              "      <td>191</td>\n",
              "      <td>1</td>\n",
              "      <td>Power Failure</td>\n",
              "    </tr>\n",
              "    <tr>\n",
              "      <th>77</th>\n",
              "      <td>L</td>\n",
              "      <td>298.8</td>\n",
              "      <td>308.9</td>\n",
              "      <td>1455</td>\n",
              "      <td>41.3</td>\n",
              "      <td>208</td>\n",
              "      <td>1</td>\n",
              "      <td>Tool Wear Failure</td>\n",
              "    </tr>\n",
              "    <tr>\n",
              "      <th>160</th>\n",
              "      <td>L</td>\n",
              "      <td>298.4</td>\n",
              "      <td>308.2</td>\n",
              "      <td>1282</td>\n",
              "      <td>60.7</td>\n",
              "      <td>216</td>\n",
              "      <td>1</td>\n",
              "      <td>Overstrain Failure</td>\n",
              "    </tr>\n",
              "    <tr>\n",
              "      <th>161</th>\n",
              "      <td>L</td>\n",
              "      <td>298.3</td>\n",
              "      <td>308.1</td>\n",
              "      <td>1412</td>\n",
              "      <td>52.3</td>\n",
              "      <td>218</td>\n",
              "      <td>1</td>\n",
              "      <td>Overstrain Failure</td>\n",
              "    </tr>\n",
              "    <tr>\n",
              "      <th>...</th>\n",
              "      <td>...</td>\n",
              "      <td>...</td>\n",
              "      <td>...</td>\n",
              "      <td>...</td>\n",
              "      <td>...</td>\n",
              "      <td>...</td>\n",
              "      <td>...</td>\n",
              "      <td>...</td>\n",
              "    </tr>\n",
              "    <tr>\n",
              "      <th>9758</th>\n",
              "      <td>L</td>\n",
              "      <td>298.6</td>\n",
              "      <td>309.8</td>\n",
              "      <td>2271</td>\n",
              "      <td>16.2</td>\n",
              "      <td>218</td>\n",
              "      <td>1</td>\n",
              "      <td>Tool Wear Failure</td>\n",
              "    </tr>\n",
              "    <tr>\n",
              "      <th>9764</th>\n",
              "      <td>L</td>\n",
              "      <td>298.5</td>\n",
              "      <td>309.5</td>\n",
              "      <td>1294</td>\n",
              "      <td>66.7</td>\n",
              "      <td>12</td>\n",
              "      <td>1</td>\n",
              "      <td>Power Failure</td>\n",
              "    </tr>\n",
              "    <tr>\n",
              "      <th>9822</th>\n",
              "      <td>L</td>\n",
              "      <td>298.5</td>\n",
              "      <td>309.4</td>\n",
              "      <td>1360</td>\n",
              "      <td>60.9</td>\n",
              "      <td>187</td>\n",
              "      <td>1</td>\n",
              "      <td>Overstrain Failure</td>\n",
              "    </tr>\n",
              "    <tr>\n",
              "      <th>9830</th>\n",
              "      <td>L</td>\n",
              "      <td>298.3</td>\n",
              "      <td>309.3</td>\n",
              "      <td>1337</td>\n",
              "      <td>56.1</td>\n",
              "      <td>206</td>\n",
              "      <td>1</td>\n",
              "      <td>Overstrain Failure</td>\n",
              "    </tr>\n",
              "    <tr>\n",
              "      <th>9974</th>\n",
              "      <td>L</td>\n",
              "      <td>298.6</td>\n",
              "      <td>308.2</td>\n",
              "      <td>1361</td>\n",
              "      <td>68.2</td>\n",
              "      <td>172</td>\n",
              "      <td>1</td>\n",
              "      <td>Power Failure</td>\n",
              "    </tr>\n",
              "  </tbody>\n",
              "</table>\n",
              "<p>330 rows × 8 columns</p>\n",
              "</div>"
            ],
            "text/plain": [
              "     Type  Air temperature  Process temperature  Rotational speed  Torque  \\\n",
              "50      L            298.9                309.1              2861     4.6   \n",
              "69      L            298.9                309.0              1410    65.7   \n",
              "77      L            298.8                308.9              1455    41.3   \n",
              "160     L            298.4                308.2              1282    60.7   \n",
              "161     L            298.3                308.1              1412    52.3   \n",
              "...   ...              ...                  ...               ...     ...   \n",
              "9758    L            298.6                309.8              2271    16.2   \n",
              "9764    L            298.5                309.5              1294    66.7   \n",
              "9822    L            298.5                309.4              1360    60.9   \n",
              "9830    L            298.3                309.3              1337    56.1   \n",
              "9974    L            298.6                308.2              1361    68.2   \n",
              "\n",
              "      Tool wear  Target        Failure Type  \n",
              "50          143       1       Power Failure  \n",
              "69          191       1       Power Failure  \n",
              "77          208       1   Tool Wear Failure  \n",
              "160         216       1  Overstrain Failure  \n",
              "161         218       1  Overstrain Failure  \n",
              "...         ...     ...                 ...  \n",
              "9758        218       1   Tool Wear Failure  \n",
              "9764         12       1       Power Failure  \n",
              "9822        187       1  Overstrain Failure  \n",
              "9830        206       1  Overstrain Failure  \n",
              "9974        172       1       Power Failure  \n",
              "\n",
              "[330 rows x 8 columns]"
            ]
          },
          "execution_count": 35,
          "metadata": {},
          "output_type": "execute_result"
        }
      ],
      "source": [
        "Fails = df1[df1['Target'] == 1]\n",
        "Fails"
      ]
    },
    {
      "cell_type": "code",
      "execution_count": 36,
      "metadata": {
        "colab": {
          "base_uri": "https://localhost:8080/",
          "height": 206
        },
        "id": "TleG8fPaThTT",
        "outputId": "ce338c54-5f38-4705-a905-1f37f6e1f5d7"
      },
      "outputs": [
        {
          "data": {
            "text/html": [
              "<div>\n",
              "<style scoped>\n",
              "    .dataframe tbody tr th:only-of-type {\n",
              "        vertical-align: middle;\n",
              "    }\n",
              "\n",
              "    .dataframe tbody tr th {\n",
              "        vertical-align: top;\n",
              "    }\n",
              "\n",
              "    .dataframe thead th {\n",
              "        text-align: right;\n",
              "    }\n",
              "</style>\n",
              "<table border=\"1\" class=\"dataframe\">\n",
              "  <thead>\n",
              "    <tr style=\"text-align: right;\">\n",
              "      <th></th>\n",
              "      <th>Failure Type</th>\n",
              "      <th>Count</th>\n",
              "      <th>Percent</th>\n",
              "    </tr>\n",
              "  </thead>\n",
              "  <tbody>\n",
              "    <tr>\n",
              "      <th>0</th>\n",
              "      <td>Heat Dissipation Failure</td>\n",
              "      <td>112</td>\n",
              "      <td>34.0</td>\n",
              "    </tr>\n",
              "    <tr>\n",
              "      <th>1</th>\n",
              "      <td>Overstrain Failure</td>\n",
              "      <td>78</td>\n",
              "      <td>24.0</td>\n",
              "    </tr>\n",
              "    <tr>\n",
              "      <th>2</th>\n",
              "      <td>Power Failure</td>\n",
              "      <td>95</td>\n",
              "      <td>29.0</td>\n",
              "    </tr>\n",
              "    <tr>\n",
              "      <th>3</th>\n",
              "      <td>Tool Wear Failure</td>\n",
              "      <td>45</td>\n",
              "      <td>14.0</td>\n",
              "    </tr>\n",
              "    <tr>\n",
              "      <th>4</th>\n",
              "      <td>Total</td>\n",
              "      <td>330</td>\n",
              "      <td>100.0</td>\n",
              "    </tr>\n",
              "  </tbody>\n",
              "</table>\n",
              "</div>"
            ],
            "text/plain": [
              "               Failure Type  Count  Percent\n",
              "0  Heat Dissipation Failure    112     34.0\n",
              "1        Overstrain Failure     78     24.0\n",
              "2             Power Failure     95     29.0\n",
              "3         Tool Wear Failure     45     14.0\n",
              "4                     Total    330    100.0"
            ]
          },
          "execution_count": 36,
          "metadata": {},
          "output_type": "execute_result"
        }
      ],
      "source": [
        "freq_percent_table(Fails, 'Failure Type')"
      ]
    },
    {
      "cell_type": "markdown",
      "metadata": {
        "id": "mKEUp8_0ThTT"
      },
      "source": [
        "Models"
      ]
    },
    {
      "cell_type": "code",
      "execution_count": 38,
      "metadata": {
        "id": "lKeuuAcWThTU"
      },
      "outputs": [],
      "source": [
        "from sklearn.neighbors import KNeighborsClassifier\n",
        "from sklearn.svm import SVC\n",
        "from sklearn.ensemble import RandomForestClassifier\n",
        "from xgboost import XGBClassifier\n",
        "from sklearn.metrics import classification_report, accuracy_score\n",
        "\n",
        "knn = KNeighborsClassifier()\n",
        "svc = SVC(decision_function_shape='ovr')\n",
        "rfc = RandomForestClassifier()\n",
        "xgb = XGBClassifier(use_label_encoder=False, eval_metric='mlogloss')  # Adjust XGB parameters to avoid warnings\n"
      ]
    },
    {
      "cell_type": "code",
      "execution_count": 39,
      "metadata": {
        "id": "PdAQFTrdThTU"
      },
      "outputs": [],
      "source": [
        "knn = KNeighborsClassifier()\n",
        "svc = SVC(decision_function_shape='ovr')\n",
        "rfc = RandomForestClassifier()\n",
        "xgb = XGBClassifier(use_label_encoder=False, eval_metric='mlogloss')  # Adjust XGB parameters to avoid warnings\n"
      ]
    },
    {
      "cell_type": "code",
      "execution_count": 40,
      "metadata": {
        "colab": {
          "base_uri": "https://localhost:8080/",
          "height": 248
        },
        "id": "wpAVO9MfThTU",
        "outputId": "7ff4f465-c79c-4f68-fc3e-16b5f58f8f0a"
      },
      "outputs": [
        {
          "data": {
            "text/html": [
              "<style>#sk-container-id-1 {color: black;}#sk-container-id-1 pre{padding: 0;}#sk-container-id-1 div.sk-toggleable {background-color: white;}#sk-container-id-1 label.sk-toggleable__label {cursor: pointer;display: block;width: 100%;margin-bottom: 0;padding: 0.3em;box-sizing: border-box;text-align: center;}#sk-container-id-1 label.sk-toggleable__label-arrow:before {content: \"▸\";float: left;margin-right: 0.25em;color: #696969;}#sk-container-id-1 label.sk-toggleable__label-arrow:hover:before {color: black;}#sk-container-id-1 div.sk-estimator:hover label.sk-toggleable__label-arrow:before {color: black;}#sk-container-id-1 div.sk-toggleable__content {max-height: 0;max-width: 0;overflow: hidden;text-align: left;background-color: #f0f8ff;}#sk-container-id-1 div.sk-toggleable__content pre {margin: 0.2em;color: black;border-radius: 0.25em;background-color: #f0f8ff;}#sk-container-id-1 input.sk-toggleable__control:checked~div.sk-toggleable__content {max-height: 200px;max-width: 100%;overflow: auto;}#sk-container-id-1 input.sk-toggleable__control:checked~label.sk-toggleable__label-arrow:before {content: \"▾\";}#sk-container-id-1 div.sk-estimator input.sk-toggleable__control:checked~label.sk-toggleable__label {background-color: #d4ebff;}#sk-container-id-1 div.sk-label input.sk-toggleable__control:checked~label.sk-toggleable__label {background-color: #d4ebff;}#sk-container-id-1 input.sk-hidden--visually {border: 0;clip: rect(1px 1px 1px 1px);clip: rect(1px, 1px, 1px, 1px);height: 1px;margin: -1px;overflow: hidden;padding: 0;position: absolute;width: 1px;}#sk-container-id-1 div.sk-estimator {font-family: monospace;background-color: #f0f8ff;border: 1px dotted black;border-radius: 0.25em;box-sizing: border-box;margin-bottom: 0.5em;}#sk-container-id-1 div.sk-estimator:hover {background-color: #d4ebff;}#sk-container-id-1 div.sk-parallel-item::after {content: \"\";width: 100%;border-bottom: 1px solid gray;flex-grow: 1;}#sk-container-id-1 div.sk-label:hover label.sk-toggleable__label {background-color: #d4ebff;}#sk-container-id-1 div.sk-serial::before {content: \"\";position: absolute;border-left: 1px solid gray;box-sizing: border-box;top: 0;bottom: 0;left: 50%;z-index: 0;}#sk-container-id-1 div.sk-serial {display: flex;flex-direction: column;align-items: center;background-color: white;padding-right: 0.2em;padding-left: 0.2em;position: relative;}#sk-container-id-1 div.sk-item {position: relative;z-index: 1;}#sk-container-id-1 div.sk-parallel {display: flex;align-items: stretch;justify-content: center;background-color: white;position: relative;}#sk-container-id-1 div.sk-item::before, #sk-container-id-1 div.sk-parallel-item::before {content: \"\";position: absolute;border-left: 1px solid gray;box-sizing: border-box;top: 0;bottom: 0;left: 50%;z-index: -1;}#sk-container-id-1 div.sk-parallel-item {display: flex;flex-direction: column;z-index: 1;position: relative;background-color: white;}#sk-container-id-1 div.sk-parallel-item:first-child::after {align-self: flex-end;width: 50%;}#sk-container-id-1 div.sk-parallel-item:last-child::after {align-self: flex-start;width: 50%;}#sk-container-id-1 div.sk-parallel-item:only-child::after {width: 0;}#sk-container-id-1 div.sk-dashed-wrapped {border: 1px dashed gray;margin: 0 0.4em 0.5em 0.4em;box-sizing: border-box;padding-bottom: 0.4em;background-color: white;}#sk-container-id-1 div.sk-label label {font-family: monospace;font-weight: bold;display: inline-block;line-height: 1.2em;}#sk-container-id-1 div.sk-label-container {text-align: center;}#sk-container-id-1 div.sk-container {/* jupyter's `normalize.less` sets `[hidden] { display: none; }` but bootstrap.min.css set `[hidden] { display: none !important; }` so we also need the `!important` here to be able to override the default hidden behavior on the sphinx rendered scikit-learn.org. See: https://github.com/scikit-learn/scikit-learn/issues/21755 */display: inline-block !important;position: relative;}#sk-container-id-1 div.sk-text-repr-fallback {display: none;}</style><div id=\"sk-container-id-1\" class=\"sk-top-container\"><div class=\"sk-text-repr-fallback\"><pre>XGBClassifier(base_score=None, booster=None, callbacks=None,\n",
              "              colsample_bylevel=None, colsample_bynode=None,\n",
              "              colsample_bytree=None, device=None, early_stopping_rounds=None,\n",
              "              enable_categorical=False, eval_metric=&#x27;mlogloss&#x27;,\n",
              "              feature_types=None, gamma=None, grow_policy=None,\n",
              "              importance_type=None, interaction_constraints=None,\n",
              "              learning_rate=None, max_bin=None, max_cat_threshold=None,\n",
              "              max_cat_to_onehot=None, max_delta_step=None, max_depth=None,\n",
              "              max_leaves=None, min_child_weight=None, missing=nan,\n",
              "              monotone_constraints=None, multi_strategy=None, n_estimators=None,\n",
              "              n_jobs=None, num_parallel_tree=None, random_state=None, ...)</pre><b>In a Jupyter environment, please rerun this cell to show the HTML representation or trust the notebook. <br />On GitHub, the HTML representation is unable to render, please try loading this page with nbviewer.org.</b></div><div class=\"sk-container\" hidden><div class=\"sk-item\"><div class=\"sk-estimator sk-toggleable\"><input class=\"sk-toggleable__control sk-hidden--visually\" id=\"sk-estimator-id-1\" type=\"checkbox\" checked><label for=\"sk-estimator-id-1\" class=\"sk-toggleable__label sk-toggleable__label-arrow\">XGBClassifier</label><div class=\"sk-toggleable__content\"><pre>XGBClassifier(base_score=None, booster=None, callbacks=None,\n",
              "              colsample_bylevel=None, colsample_bynode=None,\n",
              "              colsample_bytree=None, device=None, early_stopping_rounds=None,\n",
              "              enable_categorical=False, eval_metric=&#x27;mlogloss&#x27;,\n",
              "              feature_types=None, gamma=None, grow_policy=None,\n",
              "              importance_type=None, interaction_constraints=None,\n",
              "              learning_rate=None, max_bin=None, max_cat_threshold=None,\n",
              "              max_cat_to_onehot=None, max_delta_step=None, max_depth=None,\n",
              "              max_leaves=None, min_child_weight=None, missing=nan,\n",
              "              monotone_constraints=None, multi_strategy=None, n_estimators=None,\n",
              "              n_jobs=None, num_parallel_tree=None, random_state=None, ...)</pre></div></div></div></div></div>"
            ],
            "text/plain": [
              "XGBClassifier(base_score=None, booster=None, callbacks=None,\n",
              "              colsample_bylevel=None, colsample_bynode=None,\n",
              "              colsample_bytree=None, device=None, early_stopping_rounds=None,\n",
              "              enable_categorical=False, eval_metric='mlogloss',\n",
              "              feature_types=None, gamma=None, grow_policy=None,\n",
              "              importance_type=None, interaction_constraints=None,\n",
              "              learning_rate=None, max_bin=None, max_cat_threshold=None,\n",
              "              max_cat_to_onehot=None, max_delta_step=None, max_depth=None,\n",
              "              max_leaves=None, min_child_weight=None, missing=nan,\n",
              "              monotone_constraints=None, multi_strategy=None, n_estimators=None,\n",
              "              n_jobs=None, num_parallel_tree=None, random_state=None, ...)"
            ]
          },
          "execution_count": 40,
          "metadata": {},
          "output_type": "execute_result"
        }
      ],
      "source": [
        "# Train KNN\n",
        "knn.fit(X_train_smote, y_train_smote)\n",
        "\n",
        "# Train SVC\n",
        "svc.fit(X_train_smote, y_train_smote)\n",
        "\n",
        "# Train RFC\n",
        "rfc.fit(X_train_smote, y_train_smote)\n",
        "\n",
        "# Train XGB\n",
        "xgb.fit(X_train_smote, y_train_smote)\n"
      ]
    },
    {
      "cell_type": "code",
      "execution_count": 41,
      "metadata": {
        "colab": {
          "base_uri": "https://localhost:8080/",
          "height": 206
        },
        "id": "EFYmCy3KThTU",
        "outputId": "6d86f872-80c0-4afc-d778-0b27cffd3a2c"
      },
      "outputs": [
        {
          "data": {
            "text/html": [
              "<div>\n",
              "<style scoped>\n",
              "    .dataframe tbody tr th:only-of-type {\n",
              "        vertical-align: middle;\n",
              "    }\n",
              "\n",
              "    .dataframe tbody tr th {\n",
              "        vertical-align: top;\n",
              "    }\n",
              "\n",
              "    .dataframe thead th {\n",
              "        text-align: right;\n",
              "    }\n",
              "</style>\n",
              "<table border=\"1\" class=\"dataframe\">\n",
              "  <thead>\n",
              "    <tr style=\"text-align: right;\">\n",
              "      <th></th>\n",
              "      <th>Model</th>\n",
              "      <th>Accuracy</th>\n",
              "      <th>F1 Score</th>\n",
              "      <th>AUC-ROC</th>\n",
              "    </tr>\n",
              "  </thead>\n",
              "  <tbody>\n",
              "    <tr>\n",
              "      <th>0</th>\n",
              "      <td>Logistic Regression</td>\n",
              "      <td>0.866480</td>\n",
              "      <td>0.904007</td>\n",
              "      <td>0.929003</td>\n",
              "    </tr>\n",
              "    <tr>\n",
              "      <th>1</th>\n",
              "      <td>K-Nearest Neighbors</td>\n",
              "      <td>0.904170</td>\n",
              "      <td>0.926366</td>\n",
              "      <td>0.829767</td>\n",
              "    </tr>\n",
              "    <tr>\n",
              "      <th>2</th>\n",
              "      <td>Support Vector Classifier</td>\n",
              "      <td>0.809142</td>\n",
              "      <td>0.867742</td>\n",
              "      <td>0.884120</td>\n",
              "    </tr>\n",
              "    <tr>\n",
              "      <th>3</th>\n",
              "      <td>Random Forest</td>\n",
              "      <td>0.993585</td>\n",
              "      <td>0.993841</td>\n",
              "      <td>0.999995</td>\n",
              "    </tr>\n",
              "    <tr>\n",
              "      <th>4</th>\n",
              "      <td>XGBoost</td>\n",
              "      <td>0.992783</td>\n",
              "      <td>0.993104</td>\n",
              "      <td>1.000000</td>\n",
              "    </tr>\n",
              "  </tbody>\n",
              "</table>\n",
              "</div>"
            ],
            "text/plain": [
              "                       Model  Accuracy  F1 Score   AUC-ROC\n",
              "0        Logistic Regression  0.866480  0.904007  0.929003\n",
              "1        K-Nearest Neighbors  0.904170  0.926366  0.829767\n",
              "2  Support Vector Classifier  0.809142  0.867742  0.884120\n",
              "3              Random Forest  0.993585  0.993841  0.999995\n",
              "4                    XGBoost  0.992783  0.993104  1.000000"
            ]
          },
          "execution_count": 41,
          "metadata": {},
          "output_type": "execute_result"
        }
      ],
      "source": [
        "from sklearn.linear_model import LogisticRegression\n",
        "from sklearn.neighbors import KNeighborsClassifier\n",
        "from sklearn.svm import SVC\n",
        "from sklearn.ensemble import RandomForestClassifier\n",
        "from xgboost import XGBClassifier\n",
        "from sklearn.metrics import accuracy_score, f1_score, roc_auc_score\n",
        "\n",
        "# Initialize the classifiers\n",
        "classifiers = {\n",
        "    \"Logistic Regression\": LogisticRegression(max_iter=1000),\n",
        "    \"K-Nearest Neighbors\": KNeighborsClassifier(),\n",
        "    \"Support Vector Classifier\": SVC(probability=True, decision_function_shape='ovr'),\n",
        "    \"Random Forest\": RandomForestClassifier(),\n",
        "    \"XGBoost\": XGBClassifier(use_label_encoder=False, eval_metric='mlogloss')\n",
        "}\n",
        "\n",
        "# Prepare a dictionary to hold the performance metrics\n",
        "performance_metrics = {\n",
        "    \"Model\": [],\n",
        "    \"Accuracy\": [],\n",
        "    \"F1 Score\": [],\n",
        "    \"AUC-ROC\": []\n",
        "}\n",
        "\n",
        "# Iterate over classifiers, train, predict and calculate metrics\n",
        "for name, clf in classifiers.items():\n",
        "    # Training the model\n",
        "    clf.fit(X_train_smote, y_train_smote)\n",
        "\n",
        "    # Making predictions\n",
        "    y_pred = clf.predict(X_test)\n",
        "    if hasattr(clf, \"predict_proba\"):\n",
        "        y_proba = clf.predict_proba(X_test)[:, 1]\n",
        "    else:  # Use decision function if predict_proba is not available\n",
        "        y_proba = clf.decision_function(X_test)\n",
        "        y_proba = (y_proba - y_proba.min()) / (y_proba.max() - y_proba.min())  # Scale to [0, 1]\n",
        "\n",
        "    # Calculating metrics\n",
        "    accuracy = accuracy_score(y_test, y_pred)\n",
        "    f1 = f1_score(y_test, y_pred, average='weighted')  # Consider using 'binary' for binary classification\n",
        "    auc_roc = roc_auc_score(y_test, y_proba)\n",
        "\n",
        "    # Storing metrics\n",
        "    performance_metrics[\"Model\"].append(name)\n",
        "    performance_metrics[\"Accuracy\"].append(accuracy)\n",
        "    performance_metrics[\"F1 Score\"].append(f1)\n",
        "    performance_metrics[\"AUC-ROC\"].append(auc_roc)\n",
        "\n",
        "# Convert the performance metrics into a DataFrame for better visualization\n",
        "import pandas as pd\n",
        "results_df = pd.DataFrame(performance_metrics)\n",
        "results_df\n"
      ]
    },
    {
      "cell_type": "markdown",
      "metadata": {
        "id": "ulydgXTQThTV"
      },
      "source": [
        "# With scaled data"
      ]
    },
    {
      "cell_type": "code",
      "execution_count": 42,
      "metadata": {
        "colab": {
          "base_uri": "https://localhost:8080/",
          "height": 206
        },
        "id": "NQHcckgQThTV",
        "outputId": "4db57e00-1109-4cc3-aed2-7e327313b5ed"
      },
      "outputs": [
        {
          "data": {
            "text/html": [
              "<div>\n",
              "<style scoped>\n",
              "    .dataframe tbody tr th:only-of-type {\n",
              "        vertical-align: middle;\n",
              "    }\n",
              "\n",
              "    .dataframe tbody tr th {\n",
              "        vertical-align: top;\n",
              "    }\n",
              "\n",
              "    .dataframe thead th {\n",
              "        text-align: right;\n",
              "    }\n",
              "</style>\n",
              "<table border=\"1\" class=\"dataframe\">\n",
              "  <thead>\n",
              "    <tr style=\"text-align: right;\">\n",
              "      <th></th>\n",
              "      <th>Model</th>\n",
              "      <th>Accuracy</th>\n",
              "      <th>F1 Score</th>\n",
              "      <th>AUC-ROC</th>\n",
              "    </tr>\n",
              "  </thead>\n",
              "  <tbody>\n",
              "    <tr>\n",
              "      <th>0</th>\n",
              "      <td>Logistic Regression</td>\n",
              "      <td>0.867682</td>\n",
              "      <td>0.904687</td>\n",
              "      <td>0.925815</td>\n",
              "    </tr>\n",
              "    <tr>\n",
              "      <th>1</th>\n",
              "      <td>K-Nearest Neighbors</td>\n",
              "      <td>0.986367</td>\n",
              "      <td>0.987422</td>\n",
              "      <td>0.998753</td>\n",
              "    </tr>\n",
              "    <tr>\n",
              "      <th>2</th>\n",
              "      <td>Support Vector Classifier</td>\n",
              "      <td>0.989575</td>\n",
              "      <td>0.990218</td>\n",
              "      <td>0.999731</td>\n",
              "    </tr>\n",
              "    <tr>\n",
              "      <th>3</th>\n",
              "      <td>Random Forest</td>\n",
              "      <td>0.994387</td>\n",
              "      <td>0.994585</td>\n",
              "      <td>0.999998</td>\n",
              "    </tr>\n",
              "    <tr>\n",
              "      <th>4</th>\n",
              "      <td>XGBoost</td>\n",
              "      <td>0.992783</td>\n",
              "      <td>0.993104</td>\n",
              "      <td>1.000000</td>\n",
              "    </tr>\n",
              "  </tbody>\n",
              "</table>\n",
              "</div>"
            ],
            "text/plain": [
              "                       Model  Accuracy  F1 Score   AUC-ROC\n",
              "0        Logistic Regression  0.867682  0.904687  0.925815\n",
              "1        K-Nearest Neighbors  0.986367  0.987422  0.998753\n",
              "2  Support Vector Classifier  0.989575  0.990218  0.999731\n",
              "3              Random Forest  0.994387  0.994585  0.999998\n",
              "4                    XGBoost  0.992783  0.993104  1.000000"
            ]
          },
          "execution_count": 42,
          "metadata": {},
          "output_type": "execute_result"
        }
      ],
      "source": [
        "from sklearn.preprocessing import RobustScaler\n",
        "from sklearn.linear_model import LogisticRegression\n",
        "from sklearn.neighbors import KNeighborsClassifier\n",
        "from sklearn.svm import SVC\n",
        "from sklearn.ensemble import RandomForestClassifier\n",
        "from xgboost import XGBClassifier\n",
        "from sklearn.metrics import accuracy_score, f1_score, roc_auc_score\n",
        "import pandas as pd\n",
        "\n",
        "# Initialize the scaler\n",
        "scaler = RobustScaler()\n",
        "\n",
        "# Fit the scaler on the training data and transform both training and test sets\n",
        "X_train_scaled = scaler.fit_transform(X_train_smote)\n",
        "X_test_scaled = scaler.transform(X_test)\n",
        "\n",
        "# Initialize the classifiers\n",
        "classifiers = {\n",
        "    \"Logistic Regression\": LogisticRegression(max_iter=1000),\n",
        "    \"K-Nearest Neighbors\": KNeighborsClassifier(),\n",
        "    \"Support Vector Classifier\": SVC(probability=True, decision_function_shape='ovr'),\n",
        "    \"Random Forest\": RandomForestClassifier(),\n",
        "    \"XGBoost\": XGBClassifier(use_label_encoder=False, eval_metric='mlogloss')\n",
        "}\n",
        "\n",
        "# Prepare a dictionary to hold the performance metrics\n",
        "performance_metrics = {\n",
        "    \"Model\": [],\n",
        "    \"Accuracy\": [],\n",
        "    \"F1 Score\": [],\n",
        "    \"AUC-ROC\": []\n",
        "}\n",
        "\n",
        "# Iterate over classifiers, train, predict and calculate metrics\n",
        "for name, clf in classifiers.items():\n",
        "    # Training the model\n",
        "    clf.fit(X_train_scaled, y_train_smote)\n",
        "\n",
        "    # Making predictions\n",
        "    y_pred = clf.predict(X_test_scaled)\n",
        "    if hasattr(clf, \"predict_proba\"):\n",
        "        y_proba = clf.predict_proba(X_test_scaled)[:, 1]\n",
        "    else:  # Use decision function if predict_proba is not available\n",
        "        y_proba = clf.decision_function(X_test_scaled)\n",
        "        y_proba = (y_proba - y_proba.min()) / (y_proba.max() - y_proba.min())  # Scale to [0, 1]\n",
        "\n",
        "    # Calculating metrics\n",
        "    accuracy = accuracy_score(y_test, y_pred)\n",
        "    f1 = f1_score(y_test, y_pred, average='weighted')  # Consider using 'binary' for binary classification\n",
        "    auc_roc = roc_auc_score(y_test, y_proba)\n",
        "\n",
        "    # Storing metrics\n",
        "    performance_metrics[\"Model\"].append(name)\n",
        "    performance_metrics[\"Accuracy\"].append(accuracy)\n",
        "    performance_metrics[\"F1 Score\"].append(f1)\n",
        "    performance_metrics[\"AUC-ROC\"].append(auc_roc)\n",
        "\n",
        "# Convert the performance metrics into a DataFrame for better visualization\n",
        "results_df = pd.DataFrame(performance_metrics)\n",
        "results_df\n"
      ]
    },
    {
      "cell_type": "markdown",
      "metadata": {
        "id": "Dw6R913sThTV"
      },
      "source": [
        "KNN improved the most. Top performing models are still XGBoost and Random Forest."
      ]
    },
    {
      "cell_type": "markdown",
      "metadata": {
        "id": "c3nn03DqThTV"
      },
      "source": [
        "Parameter tuning"
      ]
    },
    {
      "cell_type": "code",
      "execution_count": 43,
      "metadata": {
        "colab": {
          "base_uri": "https://localhost:8080/",
          "height": 206
        },
        "id": "wqjkdR8QThTV",
        "outputId": "deedb725-0ed1-417a-dc63-fd0077a29252"
      },
      "outputs": [
        {
          "data": {
            "text/html": [
              "<div>\n",
              "<style scoped>\n",
              "    .dataframe tbody tr th:only-of-type {\n",
              "        vertical-align: middle;\n",
              "    }\n",
              "\n",
              "    .dataframe tbody tr th {\n",
              "        vertical-align: top;\n",
              "    }\n",
              "\n",
              "    .dataframe thead th {\n",
              "        text-align: right;\n",
              "    }\n",
              "</style>\n",
              "<table border=\"1\" class=\"dataframe\">\n",
              "  <thead>\n",
              "    <tr style=\"text-align: right;\">\n",
              "      <th></th>\n",
              "      <th>Model</th>\n",
              "      <th>Best Parameters</th>\n",
              "      <th>Accuracy</th>\n",
              "      <th>F1 Score</th>\n",
              "      <th>AUC-ROC</th>\n",
              "    </tr>\n",
              "  </thead>\n",
              "  <tbody>\n",
              "    <tr>\n",
              "      <th>0</th>\n",
              "      <td>LogisticRegression</td>\n",
              "      <td>{'C': 10}</td>\n",
              "      <td>0.867682</td>\n",
              "      <td>0.904687</td>\n",
              "      <td>0.925844</td>\n",
              "    </tr>\n",
              "    <tr>\n",
              "      <th>1</th>\n",
              "      <td>KNeighborsClassifier</td>\n",
              "      <td>{'n_neighbors': 3, 'weights': 'distance'}</td>\n",
              "      <td>0.987169</td>\n",
              "      <td>0.988113</td>\n",
              "      <td>0.997506</td>\n",
              "    </tr>\n",
              "    <tr>\n",
              "      <th>2</th>\n",
              "      <td>SVC</td>\n",
              "      <td>{'C': 10, 'kernel': 'rbf'}</td>\n",
              "      <td>0.989976</td>\n",
              "      <td>0.990573</td>\n",
              "      <td>0.999830</td>\n",
              "    </tr>\n",
              "    <tr>\n",
              "      <th>3</th>\n",
              "      <td>RandomForestClassifier</td>\n",
              "      <td>{'max_depth': 20, 'n_estimators': 100}</td>\n",
              "      <td>0.993585</td>\n",
              "      <td>0.993841</td>\n",
              "      <td>1.000000</td>\n",
              "    </tr>\n",
              "    <tr>\n",
              "      <th>4</th>\n",
              "      <td>XGBClassifier</td>\n",
              "      <td>{'learning_rate': 0.1, 'n_estimators': 200}</td>\n",
              "      <td>0.993585</td>\n",
              "      <td>0.993841</td>\n",
              "      <td>1.000000</td>\n",
              "    </tr>\n",
              "  </tbody>\n",
              "</table>\n",
              "</div>"
            ],
            "text/plain": [
              "                    Model                              Best Parameters  \\\n",
              "0      LogisticRegression                                    {'C': 10}   \n",
              "1    KNeighborsClassifier    {'n_neighbors': 3, 'weights': 'distance'}   \n",
              "2                     SVC                   {'C': 10, 'kernel': 'rbf'}   \n",
              "3  RandomForestClassifier       {'max_depth': 20, 'n_estimators': 100}   \n",
              "4           XGBClassifier  {'learning_rate': 0.1, 'n_estimators': 200}   \n",
              "\n",
              "   Accuracy  F1 Score   AUC-ROC  \n",
              "0  0.867682  0.904687  0.925844  \n",
              "1  0.987169  0.988113  0.997506  \n",
              "2  0.989976  0.990573  0.999830  \n",
              "3  0.993585  0.993841  1.000000  \n",
              "4  0.993585  0.993841  1.000000  "
            ]
          },
          "execution_count": 43,
          "metadata": {},
          "output_type": "execute_result"
        }
      ],
      "source": [
        "from sklearn.model_selection import GridSearchCV\n",
        "\n",
        "\n",
        "# Initialize the scaler and scale the data\n",
        "scaler = RobustScaler()\n",
        "X_train_scaled = scaler.fit_transform(X_train_smote)\n",
        "X_test_scaled = scaler.transform(X_test)\n",
        "\n",
        "# Define the models and their respective parameter grids\n",
        "models_and_parameters = {\n",
        "    LogisticRegression(max_iter=1000): {\n",
        "        'C': [0.1, 1, 10]\n",
        "    },\n",
        "    KNeighborsClassifier(): {\n",
        "        'n_neighbors': [3, 5, 7],\n",
        "        'weights': ['uniform', 'distance']\n",
        "    },\n",
        "    SVC(probability=True): {\n",
        "        'C': [0.1, 1, 10],\n",
        "        'kernel': ['rbf', 'linear']\n",
        "    },\n",
        "    RandomForestClassifier(): {\n",
        "        'n_estimators': [10, 50, 100],\n",
        "        'max_depth': [None, 10, 20]\n",
        "    },\n",
        "    XGBClassifier(use_label_encoder=False, eval_metric='mlogloss'): {\n",
        "        'n_estimators': [100, 200],\n",
        "        'learning_rate': [0.01, 0.1]\n",
        "    }\n",
        "}\n",
        "\n",
        "# Prepare a dictionary to store the best models and their scores\n",
        "tuned_performance_metrics = {\n",
        "    \"Model\": [],\n",
        "    \"Best Parameters\": [],\n",
        "    \"Accuracy\": [],\n",
        "    \"F1 Score\": [],\n",
        "    \"AUC-ROC\": []\n",
        "}\n",
        "\n",
        "# Iterate over the models and parameters, applying GridSearchCV for tuning\n",
        "for model, params in models_and_parameters.items():\n",
        "    grid = GridSearchCV(model, params, cv=5, scoring='accuracy', n_jobs=-1)\n",
        "    grid.fit(X_train_scaled, y_train_smote)\n",
        "\n",
        "    best_model = grid.best_estimator_\n",
        "    y_pred = best_model.predict(X_test_scaled)\n",
        "\n",
        "    if hasattr(best_model, \"predict_proba\"):\n",
        "        y_proba = best_model.predict_proba(X_test_scaled)[:, 1]\n",
        "    else:\n",
        "        y_proba = best_model.decision_function(X_test_scaled)\n",
        "        y_proba = (y_proba - y_proba.min()) / (y_proba.max() - y_proba.min())\n",
        "\n",
        "    # Storing the best model and performance metrics\n",
        "    tuned_performance_metrics[\"Model\"].append(best_model.__class__.__name__)\n",
        "    tuned_performance_metrics[\"Best Parameters\"].append(grid.best_params_)\n",
        "    tuned_performance_metrics[\"Accuracy\"].append(accuracy_score(y_test, y_pred))\n",
        "    tuned_performance_metrics[\"F1 Score\"].append(f1_score(y_test, y_pred, average='weighted'))\n",
        "    tuned_performance_metrics[\"AUC-ROC\"].append(roc_auc_score(y_test, y_proba))\n",
        "\n",
        "# Convert the performance metrics into a DataFrame for better visualization\n",
        "tuned_results_df = pd.DataFrame(tuned_performance_metrics)\n",
        "tuned_results_df\n"
      ]
    },
    {
      "cell_type": "markdown",
      "metadata": {
        "id": "Udk3syezThTV"
      },
      "source": [
        "# Deploying model on Streamlit\n",
        "\n",
        "saving the best two models from above."
      ]
    },
    {
      "cell_type": "code",
      "execution_count": 44,
      "metadata": {
        "colab": {
          "base_uri": "https://localhost:8080/",
          "height": 248
        },
        "id": "dmvsC4ruThTW",
        "outputId": "fd83bf68-6665-43cc-f26e-a8448c87f767"
      },
      "outputs": [
        {
          "data": {
            "text/html": [
              "<style>#sk-container-id-2 {color: black;}#sk-container-id-2 pre{padding: 0;}#sk-container-id-2 div.sk-toggleable {background-color: white;}#sk-container-id-2 label.sk-toggleable__label {cursor: pointer;display: block;width: 100%;margin-bottom: 0;padding: 0.3em;box-sizing: border-box;text-align: center;}#sk-container-id-2 label.sk-toggleable__label-arrow:before {content: \"▸\";float: left;margin-right: 0.25em;color: #696969;}#sk-container-id-2 label.sk-toggleable__label-arrow:hover:before {color: black;}#sk-container-id-2 div.sk-estimator:hover label.sk-toggleable__label-arrow:before {color: black;}#sk-container-id-2 div.sk-toggleable__content {max-height: 0;max-width: 0;overflow: hidden;text-align: left;background-color: #f0f8ff;}#sk-container-id-2 div.sk-toggleable__content pre {margin: 0.2em;color: black;border-radius: 0.25em;background-color: #f0f8ff;}#sk-container-id-2 input.sk-toggleable__control:checked~div.sk-toggleable__content {max-height: 200px;max-width: 100%;overflow: auto;}#sk-container-id-2 input.sk-toggleable__control:checked~label.sk-toggleable__label-arrow:before {content: \"▾\";}#sk-container-id-2 div.sk-estimator input.sk-toggleable__control:checked~label.sk-toggleable__label {background-color: #d4ebff;}#sk-container-id-2 div.sk-label input.sk-toggleable__control:checked~label.sk-toggleable__label {background-color: #d4ebff;}#sk-container-id-2 input.sk-hidden--visually {border: 0;clip: rect(1px 1px 1px 1px);clip: rect(1px, 1px, 1px, 1px);height: 1px;margin: -1px;overflow: hidden;padding: 0;position: absolute;width: 1px;}#sk-container-id-2 div.sk-estimator {font-family: monospace;background-color: #f0f8ff;border: 1px dotted black;border-radius: 0.25em;box-sizing: border-box;margin-bottom: 0.5em;}#sk-container-id-2 div.sk-estimator:hover {background-color: #d4ebff;}#sk-container-id-2 div.sk-parallel-item::after {content: \"\";width: 100%;border-bottom: 1px solid gray;flex-grow: 1;}#sk-container-id-2 div.sk-label:hover label.sk-toggleable__label {background-color: #d4ebff;}#sk-container-id-2 div.sk-serial::before {content: \"\";position: absolute;border-left: 1px solid gray;box-sizing: border-box;top: 0;bottom: 0;left: 50%;z-index: 0;}#sk-container-id-2 div.sk-serial {display: flex;flex-direction: column;align-items: center;background-color: white;padding-right: 0.2em;padding-left: 0.2em;position: relative;}#sk-container-id-2 div.sk-item {position: relative;z-index: 1;}#sk-container-id-2 div.sk-parallel {display: flex;align-items: stretch;justify-content: center;background-color: white;position: relative;}#sk-container-id-2 div.sk-item::before, #sk-container-id-2 div.sk-parallel-item::before {content: \"\";position: absolute;border-left: 1px solid gray;box-sizing: border-box;top: 0;bottom: 0;left: 50%;z-index: -1;}#sk-container-id-2 div.sk-parallel-item {display: flex;flex-direction: column;z-index: 1;position: relative;background-color: white;}#sk-container-id-2 div.sk-parallel-item:first-child::after {align-self: flex-end;width: 50%;}#sk-container-id-2 div.sk-parallel-item:last-child::after {align-self: flex-start;width: 50%;}#sk-container-id-2 div.sk-parallel-item:only-child::after {width: 0;}#sk-container-id-2 div.sk-dashed-wrapped {border: 1px dashed gray;margin: 0 0.4em 0.5em 0.4em;box-sizing: border-box;padding-bottom: 0.4em;background-color: white;}#sk-container-id-2 div.sk-label label {font-family: monospace;font-weight: bold;display: inline-block;line-height: 1.2em;}#sk-container-id-2 div.sk-label-container {text-align: center;}#sk-container-id-2 div.sk-container {/* jupyter's `normalize.less` sets `[hidden] { display: none; }` but bootstrap.min.css set `[hidden] { display: none !important; }` so we also need the `!important` here to be able to override the default hidden behavior on the sphinx rendered scikit-learn.org. See: https://github.com/scikit-learn/scikit-learn/issues/21755 */display: inline-block !important;position: relative;}#sk-container-id-2 div.sk-text-repr-fallback {display: none;}</style><div id=\"sk-container-id-2\" class=\"sk-top-container\"><div class=\"sk-text-repr-fallback\"><pre>XGBClassifier(base_score=None, booster=None, callbacks=None,\n",
              "              colsample_bylevel=None, colsample_bynode=None,\n",
              "              colsample_bytree=None, device=None, early_stopping_rounds=None,\n",
              "              enable_categorical=False, eval_metric=&#x27;mlogloss&#x27;,\n",
              "              feature_types=None, gamma=None, grow_policy=None,\n",
              "              importance_type=None, interaction_constraints=None,\n",
              "              learning_rate=0.1, max_bin=None, max_cat_threshold=None,\n",
              "              max_cat_to_onehot=None, max_delta_step=None, max_depth=None,\n",
              "              max_leaves=None, min_child_weight=None, missing=nan,\n",
              "              monotone_constraints=None, multi_strategy=None, n_estimators=200,\n",
              "              n_jobs=None, num_parallel_tree=None, random_state=None, ...)</pre><b>In a Jupyter environment, please rerun this cell to show the HTML representation or trust the notebook. <br />On GitHub, the HTML representation is unable to render, please try loading this page with nbviewer.org.</b></div><div class=\"sk-container\" hidden><div class=\"sk-item\"><div class=\"sk-estimator sk-toggleable\"><input class=\"sk-toggleable__control sk-hidden--visually\" id=\"sk-estimator-id-2\" type=\"checkbox\" checked><label for=\"sk-estimator-id-2\" class=\"sk-toggleable__label sk-toggleable__label-arrow\">XGBClassifier</label><div class=\"sk-toggleable__content\"><pre>XGBClassifier(base_score=None, booster=None, callbacks=None,\n",
              "              colsample_bylevel=None, colsample_bynode=None,\n",
              "              colsample_bytree=None, device=None, early_stopping_rounds=None,\n",
              "              enable_categorical=False, eval_metric=&#x27;mlogloss&#x27;,\n",
              "              feature_types=None, gamma=None, grow_policy=None,\n",
              "              importance_type=None, interaction_constraints=None,\n",
              "              learning_rate=0.1, max_bin=None, max_cat_threshold=None,\n",
              "              max_cat_to_onehot=None, max_delta_step=None, max_depth=None,\n",
              "              max_leaves=None, min_child_weight=None, missing=nan,\n",
              "              monotone_constraints=None, multi_strategy=None, n_estimators=200,\n",
              "              n_jobs=None, num_parallel_tree=None, random_state=None, ...)</pre></div></div></div></div></div>"
            ],
            "text/plain": [
              "XGBClassifier(base_score=None, booster=None, callbacks=None,\n",
              "              colsample_bylevel=None, colsample_bynode=None,\n",
              "              colsample_bytree=None, device=None, early_stopping_rounds=None,\n",
              "              enable_categorical=False, eval_metric='mlogloss',\n",
              "              feature_types=None, gamma=None, grow_policy=None,\n",
              "              importance_type=None, interaction_constraints=None,\n",
              "              learning_rate=0.1, max_bin=None, max_cat_threshold=None,\n",
              "              max_cat_to_onehot=None, max_delta_step=None, max_depth=None,\n",
              "              max_leaves=None, min_child_weight=None, missing=nan,\n",
              "              monotone_constraints=None, multi_strategy=None, n_estimators=200,\n",
              "              n_jobs=None, num_parallel_tree=None, random_state=None, ...)"
            ]
          },
          "execution_count": 44,
          "metadata": {},
          "output_type": "execute_result"
        }
      ],
      "source": [
        "# Step 1: Train Your Models with Best Parameters\n",
        "\n",
        "from sklearn.ensemble import RandomForestClassifier\n",
        "from xgboost import XGBClassifier\n",
        "\n",
        "# Initialize the models with the best parameters\n",
        "best_rf = RandomForestClassifier(max_depth=20, n_estimators=100)\n",
        "best_xgb = XGBClassifier(learning_rate=0.1, n_estimators=200, use_label_encoder=False, eval_metric='mlogloss')\n",
        "\n",
        "# Fit the models on your training data\n",
        "best_rf.fit(X_train, y_train)\n",
        "best_xgb.fit(X_train, y_train)\n"
      ]
    },
    {
      "cell_type": "code",
      "execution_count": 45,
      "metadata": {
        "colab": {
          "base_uri": "https://localhost:8080/"
        },
        "id": "XIY38hT0ThTX",
        "outputId": "7ef96b94-eff5-4553-fbac-5fad023747cf"
      },
      "outputs": [
        {
          "data": {
            "text/plain": [
              "['best_xgboost_model.pkl']"
            ]
          },
          "execution_count": 45,
          "metadata": {},
          "output_type": "execute_result"
        }
      ],
      "source": [
        "# Step 2: Save the Trained Models\n",
        "\n",
        "import joblib\n",
        "\n",
        "# Save the trained models to disk\n",
        "joblib.dump(best_rf, 'best_random_forest_model.pkl')\n",
        "joblib.dump(best_xgb, 'best_xgboost_model.pkl')\n"
      ]
    },
    {
      "cell_type": "code",
      "execution_count": 68,
      "metadata": {
        "id": "erVFxQwrThTX"
      },
      "outputs": [],
      "source": [
        "# Step 3: Load and Verify the Saved Models\n",
        "\n",
        "# Load the models from disk\n",
        "loaded_rf = joblib.load('best_random_forest_model.pkl')\n",
        "loaded_xgb = joblib.load('best_xgboost_model.pkl')\n",
        "\n",
        "# Make predictions to test if the loaded models are working as expected (use your test data here)\n",
        "predictions_rf = loaded_rf.predict(X_test)\n",
        "predictions_xgb = loaded_xgb.predict(X_test)\n"
      ]
    },
    {
      "cell_type": "code",
      "execution_count": 1,
      "metadata": {
        "colab": {
          "base_uri": "https://localhost:8080/"
        },
        "id": "BJ6XUhvpThTX",
        "outputId": "d6a272cb-29d7-4365-f844-49137974cf57"
      },
      "outputs": [
        {
          "name": "stderr",
          "output_type": "stream",
          "text": [
            "2024-03-14 18:59:30.885 \n",
            "  \u001b[33m\u001b[1mWarning:\u001b[0m to view this Streamlit app on a browser, run it with the following\n",
            "  command:\n",
            "\n",
            "    streamlit run c:\\Users\\HP\\samle-data\\env\\lib\\site-packages\\ipykernel_launcher.py [ARGUMENTS]\n"
          ]
        }
      ],
      "source": [
        "import streamlit as st\n",
        "import numpy as np\n",
        "import joblib\n",
        "\n",
        "# Load the trained models\n",
        "loaded_rf = joblib.load('best_random_forest_model.pkl')\n",
        "loaded_xgb = joblib.load('best_xgboost_model.pkl')\n",
        "\n",
        "# Streamlit app title\n",
        "st.title('Machine Learning Model Predictions')\n",
        "\n",
        "# Model selection\n",
        "model_option = st.selectbox('Select the model you want to use:', ['RandomForestClassifier', 'XGBClassifier'])\n",
        "\n",
        "# Assuming you need inputs for features to make a prediction\n",
        "# Here you should include input fields corresponding to the features of your dataset\n",
        "# This is a generic template; you'll need to adjust it based on your specific feature set\n",
        "feature_1 = st.number_input('Type', format='%f')\n",
        "feature_2 = st.number_input('Failure Type', format='%f')\n",
        "# Add more input fields as required for your model\n",
        "\n",
        "# The 'Predict' button\n",
        "if st.button('Predict'):\n",
        "    input_data = np.array([[feature_1, feature_2]])  # Adjust this depending on the number of features\n",
        "    if model_option == 'RandomForestClassifier':\n",
        "        prediction = loaded_rf.predict(input_data)\n",
        "    elif model_option == 'XGBClassifier':\n",
        "        prediction = loaded_xgb.predict(input_data)\n",
        "    \n",
        "    st.write(f'The predicted output is: {prediction}')\n"
      ]
    },
    {
      "cell_type": "code",
      "execution_count": 2,
      "metadata": {
        "colab": {
          "base_uri": "https://localhost:8080/"
        },
        "id": "pbxcaK6hq0s1",
        "outputId": "45fc027a-ca22-4c43-b529-4d6c550ba544"
      },
      "outputs": [
        {
          "name": "stdout",
          "output_type": "stream",
          "text": [
            "^C\n"
          ]
        }
      ],
      "source": [
        "!streamlit run c:\\Users\\HP\\samle-data\\env\\lib\\site-packages\\ipykernel_launcher.py"
      ]
    },
    {
      "cell_type": "code",
      "execution_count": null,
      "metadata": {
        "id": "2Ciek-5yq7SM"
      },
      "outputs": [],
      "source": [
        "from pyngrok import ngrok\n",
        "\n",
        "# Setup a tunnel to the streamlit port 8501\n",
        "public_url = ngrok.connect(port='8501')\n",
        "public_url\n"
      ]
    },
    {
      "cell_type": "code",
      "execution_count": null,
      "metadata": {
        "colab": {
          "base_uri": "https://localhost:8080/"
        },
        "id": "hrZA2HH1rjpz",
        "outputId": "112f2933-0883-4877-d5f1-24a241e2ddff"
      },
      "outputs": [
        {
          "name": "stdout",
          "output_type": "stream",
          "text": [
            "Collecting pyngrok\n",
            "  Downloading pyngrok-7.1.5-py3-none-any.whl (22 kB)\n",
            "Requirement already satisfied: PyYAML>=5.1 in /usr/local/lib/python3.10/dist-packages (from pyngrok) (6.0.1)\n",
            "Installing collected packages: pyngrok\n",
            "Successfully installed pyngrok-7.1.5\n"
          ]
        }
      ],
      "source": [
        "!pip install pyngrok\n"
      ]
    },
    {
      "cell_type": "code",
      "execution_count": null,
      "metadata": {
        "id": "pmRExS4zrqYq"
      },
      "outputs": [],
      "source": []
    }
  ],
  "metadata": {
    "colab": {
      "provenance": []
    },
    "kernelspec": {
      "display_name": "Python 3",
      "language": "python",
      "name": "python3"
    },
    "language_info": {
      "codemirror_mode": {
        "name": "ipython",
        "version": 3
      },
      "file_extension": ".py",
      "mimetype": "text/x-python",
      "name": "python",
      "nbconvert_exporter": "python",
      "pygments_lexer": "ipython3",
      "version": "3.10.13"
    }
  },
  "nbformat": 4,
  "nbformat_minor": 0
}
